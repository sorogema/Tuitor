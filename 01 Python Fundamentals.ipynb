{
 "cells": [
  {
   "cell_type": "markdown",
   "metadata": {},
   "source": [
    "# Python Fundamentals"
   ]
  },
  {
   "cell_type": "markdown",
   "metadata": {},
   "source": [
    "# 1. Basic Syntax and Data Types"
   ]
  },
  {
   "cell_type": "code",
   "execution_count": null,
   "metadata": {},
   "outputs": [],
   "source": []
  },
  {
   "cell_type": "markdown",
   "metadata": {},
   "source": [
    "## 1.1 Data types"
   ]
  },
  {
   "cell_type": "code",
   "execution_count": null,
   "metadata": {},
   "outputs": [],
   "source": [
    "x = 5  # integer\n",
    "y = 3.14  # float\n",
    "name = \"Alice\"  # string\n",
    "is_this_python = True  # boolean\n",
    "fruits = [\"apple\", \"banana\", \"cherry\"]  # list\n",
    "immutables = (1, 2, 3)  # tuple\n",
    "capitals = {\"USA\": \"Washington DC\", \"India\": \"New Delhi\"}  # dictionary\n",
    "\n",
    "print(type(x), x)\n",
    "print(type(y), y)\n",
    "print(type(name), name)\n",
    "print(type(is_this_python), is_this_python)\n",
    "print(type(fruits), fruits)\n",
    "print(type(immutables), immutables)\n",
    "print(type(capitals), capitals)"
   ]
  },
  {
   "cell_type": "markdown",
   "metadata": {},
   "source": [
    "# 2. Control flow"
   ]
  },
  {
   "cell_type": "markdown",
   "metadata": {},
   "source": [
    "## 2.1 If/else statements"
   ]
  },
  {
   "cell_type": "code",
   "execution_count": null,
   "metadata": {},
   "outputs": [],
   "source": [
    "# Simple if else\n",
    "\n",
    "n = 15\n",
    "\n",
    "if n % 2 == 0:\n",
    "    print(f\"The number {n} is even.\")\n",
    "else:\n",
    "    print(f\"The number {n} is odd.\")"
   ]
  },
  {
   "cell_type": "code",
   "execution_count": null,
   "metadata": {},
   "outputs": [],
   "source": [
    "# If, elif and else\n",
    "\n",
    "n = 25\n",
    "\n",
    "if n > 50:\n",
    "    print(f\"{n} is greater than 50.\")\n",
    "elif n > 40:\n",
    "    print(f\"{n} is greater than 40.\")\n",
    "elif n > 30:\n",
    "    print(f\"{n} is greater than 30.\")\n",
    "elif n > 20:\n",
    "    print(f\"{n} is greater than 20.\")\n",
    "elif n > 10:\n",
    "    print(f\"{n} is greater than 10.\")\n",
    "else:\n",
    "    print(f\"{n} is less than or equal to 10.\")"
   ]
  },
  {
   "cell_type": "code",
   "execution_count": null,
   "metadata": {},
   "outputs": [],
   "source": [
    "# Multiple if statements\n",
    "\n",
    "n = 25\n",
    "\n",
    "if n > 50:\n",
    "    print(f\"{n} is greater than 50.\")\n",
    "if n > 40:\n",
    "    print(f\"{n} is greater than 40.\")\n",
    "if n > 30:\n",
    "    print(f\"{n} is greater than 30.\")\n",
    "if n > 20:\n",
    "    print(f\"{n} is greater than 20.\")\n",
    "if n > 10:\n",
    "    print(f\"{n} is greater than 10.\")\n",
    "else:\n",
    "    print(f\"{n} is less than or equal to 10.\")"
   ]
  },
  {
   "cell_type": "code",
   "execution_count": null,
   "metadata": {},
   "outputs": [],
   "source": [
    "# Multiple conditions\n",
    "\n",
    "n = 10\n",
    "m = 10\n",
    "\n",
    "if n > 0 and m > 0:\n",
    "    print('Both n AND m is positive')\n",
    "elif n > 0 or m > 0:\n",
    "    print('One of n OR m is positive')\n",
    "else:\n",
    "    print(\"Both n and m is negative\")"
   ]
  },
  {
   "cell_type": "markdown",
   "metadata": {},
   "source": [
    "### 2.1.1 Other conditionals"
   ]
  },
  {
   "cell_type": "code",
   "execution_count": null,
   "metadata": {},
   "outputs": [],
   "source": [
    "# Comparing None types\n",
    "\n",
    "print(None == None)\n",
    "print(None is None)\n",
    "print(10 == None)\n",
    "print(10 is None)\n"
   ]
  },
  {
   "cell_type": "code",
   "execution_count": null,
   "metadata": {},
   "outputs": [],
   "source": [
    "# Compraing datatypes\n",
    "\n",
    "print(10 is 10)\n",
    "print(10 is int)\n",
    "print(type(10)==int)\n",
    "print(isinstance(10, int))"
   ]
  },
  {
   "cell_type": "code",
   "execution_count": null,
   "metadata": {},
   "outputs": [],
   "source": [
    "# Conditional using in to check if an element is in a list\n",
    "\n",
    "lst = [1,2,3]\n",
    "\n",
    "print(1 in lst)\n",
    "print(4 in lst)"
   ]
  },
  {
   "cell_type": "markdown",
   "metadata": {},
   "source": [
    "## 2.2 Loops"
   ]
  },
  {
   "cell_type": "markdown",
   "metadata": {},
   "source": [
    "### 2.2.1 While loops"
   ]
  },
  {
   "cell_type": "code",
   "execution_count": null,
   "metadata": {},
   "outputs": [],
   "source": [
    "count = 0\n",
    "while count < 5:\n",
    "    print(count)\n",
    "    count += 1"
   ]
  },
  {
   "cell_type": "markdown",
   "metadata": {},
   "source": [
    "### 2.2.2 For loops"
   ]
  },
  {
   "cell_type": "code",
   "execution_count": null,
   "metadata": {},
   "outputs": [],
   "source": [
    "for i in range(5):\n",
    "    print(i)"
   ]
  },
  {
   "cell_type": "code",
   "execution_count": null,
   "metadata": {},
   "outputs": [],
   "source": [
    "lst = [1, 2, 3, 4, 5]\n",
    "\n",
    "for i in lst:\n",
    "    print(i)"
   ]
  },
  {
   "cell_type": "code",
   "execution_count": null,
   "metadata": {},
   "outputs": [],
   "source": [
    "lst = ['a', 'b' , 'c', 'd']\n",
    "\n",
    "for element in lst:\n",
    "    print(element)"
   ]
  },
  {
   "cell_type": "code",
   "execution_count": null,
   "metadata": {},
   "outputs": [],
   "source": [
    "lst = ['a', 'b' , 'c', 'd']\n",
    "\n",
    "for idx, element in enumerate(lst):\n",
    "    print(idx, element)"
   ]
  },
  {
   "cell_type": "code",
   "execution_count": null,
   "metadata": {},
   "outputs": [],
   "source": [
    "some_string = 'apples'\n",
    "\n",
    "for c in some_string:\n",
    "    print(c)"
   ]
  },
  {
   "cell_type": "markdown",
   "metadata": {},
   "source": [
    "### 2.2.3 Continue, break and pass"
   ]
  },
  {
   "cell_type": "code",
   "execution_count": null,
   "metadata": {},
   "outputs": [],
   "source": [
    "count = 0\n",
    "\n",
    "while True:\n",
    "    print(f'Start of loop {count}!')\n",
    "    count += 1\n",
    "    if count == 5:\n",
    "        break\n"
   ]
  },
  {
   "cell_type": "code",
   "execution_count": null,
   "metadata": {},
   "outputs": [],
   "source": [
    "for i in range(5):\n",
    "    print()\n",
    "    print(f'Start of loop {i}!')\n",
    "\n",
    "    if i == 2:\n",
    "        continue\n",
    "\n",
    "    print(f'End of loop {i}!')"
   ]
  },
  {
   "cell_type": "code",
   "execution_count": null,
   "metadata": {},
   "outputs": [],
   "source": [
    "for i in range(5):\n",
    "    print()\n",
    "    print(f'Start of loop {i}!')\n",
    "\n",
    "    if i == 2:\n",
    "        pass\n",
    "\n",
    "    print(f'End of loop {i}!')"
   ]
  },
  {
   "cell_type": "markdown",
   "metadata": {},
   "source": [
    "## 2a. Activity"
   ]
  },
  {
   "cell_type": "code",
   "execution_count": null,
   "metadata": {},
   "outputs": [],
   "source": [
    "# Q: Write a loop that prints numbers from 10 to 1 in descending order.\n",
    "#\n",
    "# Example: \n",
    "#   10, 9, 8, 7, 6, 5, 4, 3, 2, 1\n",
    "#\n",
    "# Write your code below"
   ]
  },
  {
   "cell_type": "code",
   "execution_count": null,
   "metadata": {},
   "outputs": [],
   "source": [
    "# Q: Use a loop to iterate over a string and count the number of vowels.\n",
    "#\n",
    "# Example:\n",
    "#   Input: \n",
    "#       'Hello world'\n",
    "#   Output:\n",
    "#       3\n",
    "#\n",
    "# Write your code below\n",
    "\n",
    "string = 'Hello world'"
   ]
  },
  {
   "cell_type": "markdown",
   "metadata": {},
   "source": [
    "# 3. List comprehensions"
   ]
  },
  {
   "cell_type": "code",
   "execution_count": null,
   "metadata": {},
   "outputs": [],
   "source": [
    "# Simple list comprehension\n",
    "\n",
    "lst = [i for i in range(10)]\n",
    "lst"
   ]
  },
  {
   "cell_type": "code",
   "execution_count": null,
   "metadata": {},
   "outputs": [],
   "source": [
    "# Add an operator\n",
    "\n",
    "lst = [i**2 for i in range(10)]\n",
    "lst"
   ]
  },
  {
   "cell_type": "code",
   "execution_count": null,
   "metadata": {},
   "outputs": [],
   "source": [
    "# Add an if statement\n",
    "\n",
    "lst = [i**2 for i in range(10) if i >= 5]\n",
    "lst"
   ]
  },
  {
   "cell_type": "code",
   "execution_count": null,
   "metadata": {},
   "outputs": [],
   "source": [
    "# Add an if/else statement\n",
    "\n",
    "lst = [i**2 if i >= 5 else i for i in range(10)]\n",
    "lst"
   ]
  },
  {
   "cell_type": "code",
   "execution_count": null,
   "metadata": {},
   "outputs": [],
   "source": [
    "# Using functions in a list comprehension\n",
    "\n",
    "names = ['john', 'jane', 'bob']\n",
    "lst = [name.upper() for name in names]\n",
    "lst"
   ]
  },
  {
   "cell_type": "code",
   "execution_count": null,
   "metadata": {},
   "outputs": [],
   "source": [
    "# Using custom functions in a list comprehension\n",
    "\n",
    "def square(x):\n",
    "    return x**2\n",
    "\n",
    "lst = [square(i) for i in range(10)]\n",
    "lst"
   ]
  },
  {
   "cell_type": "markdown",
   "metadata": {},
   "source": [
    "## 3a. Activity"
   ]
  },
  {
   "cell_type": "code",
   "execution_count": null,
   "metadata": {},
   "outputs": [],
   "source": [
    "# Q: Write a list comprehension that creates a \n",
    "#    list of even numbers from 0 to 20.\n",
    "#\n",
    "# Example:\n",
    "#   [0, 2, 4, 6, 8, 10, 12, 14, 16, 18, 20]\n",
    "#\n",
    "# Write your code below\n"
   ]
  },
  {
   "cell_type": "code",
   "execution_count": null,
   "metadata": {},
   "outputs": [],
   "source": [
    "for i in range(10):\n",
    "    i**2"
   ]
  },
  {
   "cell_type": "code",
   "execution_count": 4,
   "metadata": {},
   "outputs": [
    {
     "data": {
      "text/plain": [
       "[0, 2, 4, 6, 8, 10, 12, 14, 16, 18, 20]"
      ]
     },
     "execution_count": 4,
     "metadata": {},
     "output_type": "execute_result"
    }
   ],
   "source": [
    "lst = [i*2 for i in range(0,11)]\n",
    "lst"
   ]
  },
  {
   "cell_type": "code",
   "execution_count": 10,
   "metadata": {},
   "outputs": [
    {
     "data": {
      "text/plain": [
       "[0, 2, 4, 6, 8, 10, 12, 14, 16, 18, 20]"
      ]
     },
     "execution_count": 10,
     "metadata": {},
     "output_type": "execute_result"
    }
   ],
   "source": [
    "lst = [i for i in range(0,21) if i%2==0]\n",
    "lst"
   ]
  },
  {
   "cell_type": "markdown",
   "metadata": {},
   "source": [
    "# 4. Functions"
   ]
  },
  {
   "cell_type": "markdown",
   "metadata": {},
   "source": [
    "## 4.1 Type hints"
   ]
  },
  {
   "cell_type": "code",
   "execution_count": null,
   "metadata": {},
   "outputs": [],
   "source": [
    "# Simple function\n",
    "\n",
    "def add(a, b):\n",
    "    result = a + b\n",
    "    return result\n",
    "\n",
    "print(add(1, 2))"
   ]
  },
  {
   "cell_type": "code",
   "execution_count": null,
   "metadata": {},
   "outputs": [],
   "source": [
    "# Adding type hints\n",
    "\n",
    "def add(a: int, b: int) -> int:\n",
    "    result = a + b\n",
    "    return result\n",
    "\n",
    "print(add(1, 2))"
   ]
  },
  {
   "cell_type": "code",
   "execution_count": null,
   "metadata": {},
   "outputs": [],
   "source": [
    "# Note: Type hints are ignored by the interpreter\n",
    "#\n",
    "# They can be enforced depending on \n",
    "# use case using libraries like `mypy` \n",
    "# or `pydantic` or for checking during \n",
    "# development\n",
    "\n",
    "def foo(a: int) -> int:\n",
    "    return a\n",
    "\n",
    "foo('apples')"
   ]
  },
  {
   "cell_type": "markdown",
   "metadata": {},
   "source": [
    "# 4a. Activity"
   ]
  },
  {
   "cell_type": "code",
   "execution_count": null,
   "metadata": {},
   "outputs": [],
   "source": [
    "# Q: Write a function that takes a list of numbers and returns\n",
    "#    the sum of all the even numbers in the list.\n",
    "#\n",
    "# Example:\n",
    "#   Input: \n",
    "#       [1, 2, 3, 4, 5, 6, 7, 8, 9, 10]\n",
    "#   Output:\n",
    "#       30\n",
    "#\n",
    "# Write your code below"
   ]
  },
  {
   "cell_type": "code",
   "execution_count": null,
   "metadata": {},
   "outputs": [],
   "source": [
    "# Q: Add type hints to the function\n",
    "# Write your code below\n",
    "\n",
    "def greet(name, age):\n",
    "    return f'Hello, my name is {name} and I am {age} years old.'"
   ]
  },
  {
   "cell_type": "markdown",
   "metadata": {},
   "source": [
    "# 5. Exception handling"
   ]
  },
  {
   "cell_type": "code",
   "execution_count": null,
   "metadata": {},
   "outputs": [],
   "source": [
    "# Simple try/except/finally without stopping the program\n",
    "\n",
    "print('Start')\n",
    "\n",
    "try:\n",
    "    result = 10 / 0\n",
    "except ZeroDivisionError:\n",
    "    print(\"Error: Division by zero!\")\n",
    "finally:\n",
    "    print(\"This will always execute\")\n",
    "\n",
    "print('End')"
   ]
  },
  {
   "cell_type": "code",
   "execution_count": null,
   "metadata": {},
   "outputs": [],
   "source": [
    "# We can use `raise` to raise an exception and end the program\n",
    "\n",
    "print('Start')\n",
    "\n",
    "try:\n",
    "    result = 10 / 0\n",
    "except ZeroDivisionError as e:\n",
    "    raise e\n",
    "finally:\n",
    "    print(\"This will always execute\")\n",
    "\n",
    "print('End')"
   ]
  },
  {
   "cell_type": "code",
   "execution_count": null,
   "metadata": {},
   "outputs": [],
   "source": [
    "# We can also include our own messages in the exception raised\n",
    "\n",
    "try:\n",
    "    a = undefined_variable\n",
    "except Exception as e:\n",
    "    raise Exception(f'You can put your error message here \\n or pass the error itself - {e}')"
   ]
  },
  {
   "cell_type": "markdown",
   "metadata": {},
   "source": [
    "# 6. Activity"
   ]
  },
  {
   "cell_type": "code",
   "execution_count": null,
   "metadata": {},
   "outputs": [],
   "source": [
    "# Q: Write a function that takes a list of numbers, \n",
    "#    uses a list comprehension to square each number, \n",
    "#    and then uses a for loop to print only the even \n",
    "#    squared numbers.\n",
    "#\n",
    "# Example:\n",
    "#   Input: \n",
    "#       [1, 2, 3, 4, 5, 6, 7, 8, 9, 10]\n",
    "#   Output:\n",
    "#       4\n",
    "#       16\n",
    "#       36\n",
    "#       64\n",
    "#       100\n",
    "#\n",
    "# Write your code below"
   ]
  },
  {
   "cell_type": "code",
   "execution_count": null,
   "metadata": {},
   "outputs": [],
   "source": [
    "# Q: Create a function that accepts a dictionary of \n",
    "#    student names and scores. Use exception handling \n",
    "#    to ensure all scores are numbers, and then use \n",
    "#    control flow to categorize students as \n",
    "#    \"Pass\" (score >= 60) or \"Fail\" (score < 60).\n",
    "#\n",
    "# Examples:\n",
    "#   Input: \n",
    "#       {'John': 90, 'Jane': 70, 'Bob': 80}\n",
    "#   Output:\n",
    "#       {'John': 'Pass', 'Jane': 'Fail', 'Bob': 'Pass'}\n",
    "#\n",
    "#   Input:\n",
    "#       {'John': '90', 'Jane': '70', 'Bob': '80'}\n",
    "#   Output:\n",
    "#       Exception: '90' is not a number\n",
    "#\n",
    "# Write your code below"
   ]
  },
  {
   "cell_type": "code",
   "execution_count": 57,
   "metadata": {},
   "outputs": [],
   "source": [
    "ins = {'John': 90, 'Jane': 40, 'Bob': 80}\n",
    "Input = {'John': '90', 'Jane': '70', 'Bob': '80'}"
   ]
  },
  {
   "cell_type": "code",
   "execution_count": 56,
   "metadata": {},
   "outputs": [],
   "source": [
    "def categStud(x: dict) -> dict:\n",
    "    for key, value in x.items():\n",
    "        if not isinstance(value, int):\n",
    "            raise Exception(\"NOt number\")\n",
    "        if value >= 60:\n",
    "            x[key] = \"Pass\"\n",
    "        else:\n",
    "            x[key] = \"Fail\"\n",
    "\n",
    "    return x"
   ]
  },
  {
   "cell_type": "code",
   "execution_count": 59,
   "metadata": {},
   "outputs": [
    {
     "ename": "Exception",
     "evalue": "NOt number",
     "output_type": "error",
     "traceback": [
      "\u001b[1;31m---------------------------------------------------------------------------\u001b[0m",
      "\u001b[1;31mException\u001b[0m                                 Traceback (most recent call last)",
      "Cell \u001b[1;32mIn[59], line 1\u001b[0m\n\u001b[1;32m----> 1\u001b[0m \u001b[43mcategStud\u001b[49m\u001b[43m(\u001b[49m\u001b[43mInput\u001b[49m\u001b[43m)\u001b[49m\n",
      "Cell \u001b[1;32mIn[56], line 5\u001b[0m, in \u001b[0;36mcategStud\u001b[1;34m(x)\u001b[0m\n\u001b[0;32m      3\u001b[0m \u001b[38;5;28;01mfor\u001b[39;00m key, value \u001b[38;5;129;01min\u001b[39;00m x\u001b[38;5;241m.\u001b[39mitems():\n\u001b[0;32m      4\u001b[0m     \u001b[38;5;28;01mif\u001b[39;00m \u001b[38;5;129;01mnot\u001b[39;00m \u001b[38;5;28misinstance\u001b[39m(value, \u001b[38;5;28mint\u001b[39m):\n\u001b[1;32m----> 5\u001b[0m         \u001b[38;5;28;01mraise\u001b[39;00m \u001b[38;5;167;01mException\u001b[39;00m(\u001b[38;5;124m\"\u001b[39m\u001b[38;5;124mNOt number\u001b[39m\u001b[38;5;124m\"\u001b[39m)\n\u001b[0;32m      6\u001b[0m     \u001b[38;5;66;03m# score >= 60) or \"Fail\" (score < 60\u001b[39;00m\n\u001b[0;32m      7\u001b[0m     \u001b[38;5;28;01mif\u001b[39;00m value \u001b[38;5;241m>\u001b[39m\u001b[38;5;241m=\u001b[39m \u001b[38;5;241m60\u001b[39m:\n",
      "\u001b[1;31mException\u001b[0m: NOt number"
     ]
    }
   ],
   "source": [
    "categStud(Input)"
   ]
  },
  {
   "cell_type": "code",
   "execution_count": 54,
   "metadata": {},
   "outputs": [],
   "source": [
    "for key, value in ins.items():\n",
    "    if not isinstance(value, int):\n",
    "        raise Exception(\"NOt number\")\n",
    "    # score >= 60) or \"Fail\" (score < 60\n",
    "    if value >= 60:\n",
    "        ins[key] = \"Pass\"\n",
    "    else:\n",
    "        ins[key] = \"Fail\""
   ]
  },
  {
   "cell_type": "code",
   "execution_count": 55,
   "metadata": {},
   "outputs": [
    {
     "data": {
      "text/plain": [
       "{'John': 'Pass', 'Jane': 'Fail', 'Bob': 'Pass'}"
      ]
     },
     "execution_count": 55,
     "metadata": {},
     "output_type": "execute_result"
    }
   ],
   "source": [
    "ins"
   ]
  },
  {
   "cell_type": "code",
   "execution_count": 37,
   "metadata": {},
   "outputs": [
    {
     "data": {
      "text/plain": [
       "[0, 2, 4, 6, 8, 10, 12, 14, 16, 18, 20]"
      ]
     },
     "execution_count": 37,
     "metadata": {},
     "output_type": "execute_result"
    }
   ],
   "source": [
    "lst"
   ]
  },
  {
   "cell_type": "code",
   "execution_count": 38,
   "metadata": {},
   "outputs": [
    {
     "data": {
      "text/plain": [
       "5"
      ]
     },
     "execution_count": 38,
     "metadata": {},
     "output_type": "execute_result"
    }
   ],
   "source": [
    "lst.index(10)"
   ]
  },
  {
   "cell_type": "code",
   "execution_count": 39,
   "metadata": {},
   "outputs": [
    {
     "data": {
      "text/plain": [
       "dict_keys(['John', 'Jane', 'Bob'])"
      ]
     },
     "execution_count": 39,
     "metadata": {},
     "output_type": "execute_result"
    }
   ],
   "source": [
    "ins.keys()"
   ]
  },
  {
   "cell_type": "code",
   "execution_count": 45,
   "metadata": {},
   "outputs": [],
   "source": [
    "ins[\"John\"] = \"Pass\""
   ]
  },
  {
   "cell_type": "code",
   "execution_count": 46,
   "metadata": {},
   "outputs": [
    {
     "data": {
      "text/plain": [
       "'Pass'"
      ]
     },
     "execution_count": 46,
     "metadata": {},
     "output_type": "execute_result"
    }
   ],
   "source": [
    "ins[\"John\"]"
   ]
  },
  {
   "cell_type": "code",
   "execution_count": 47,
   "metadata": {},
   "outputs": [
    {
     "data": {
      "text/plain": [
       "{'John': 'Pass', 'Jane': 70, 'Bob': 80}"
      ]
     },
     "execution_count": 47,
     "metadata": {},
     "output_type": "execute_result"
    }
   ],
   "source": [
    "ins"
   ]
  },
  {
   "cell_type": "code",
   "execution_count": 48,
   "metadata": {},
   "outputs": [],
   "source": [
    "x = 90"
   ]
  },
  {
   "cell_type": "code",
   "execution_count": null,
   "metadata": {},
   "outputs": [],
   "source": []
  }
 ],
 "metadata": {
  "kernelspec": {
   "display_name": "tutor-an",
   "language": "python",
   "name": "python3"
  },
  "language_info": {
   "codemirror_mode": {
    "name": "ipython",
    "version": 3
   },
   "file_extension": ".py",
   "mimetype": "text/x-python",
   "name": "python",
   "nbconvert_exporter": "python",
   "pygments_lexer": "ipython3",
   "version": "3.11.9"
  }
 },
 "nbformat": 4,
 "nbformat_minor": 2
}
