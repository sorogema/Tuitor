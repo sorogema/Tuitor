{
 "cells": [
  {
   "cell_type": "markdown",
   "metadata": {},
   "source": [
    "# Analyzing Car Insurance Claims"
   ]
  },
  {
   "cell_type": "markdown",
   "metadata": {},
   "source": [
    "Tasks guideline:\n",
    "1. Load and explore the dataset\n",
    "2. Preprocess the data (handle missing values)\n",
    "3. Perform basic analysis (EDA)\n",
    "4. Visualize findings\n",
    "5. Analyze the relationship between variables\n",
    "6. Create a simple risk score (optional)\n",
    "7. Create a summary, and save the preprocessed data into a CSV\n",
    "8. Extra: Make everything runnable and reusable using CLI"
   ]
  },
  {
   "cell_type": "markdown",
   "metadata": {},
   "source": [
    "## Some questions to spark ideas\n",
    "\n",
    "### Data Exploration and Preprocessing\n",
    "\n",
    "1. How many unique categories are there in the 'driving_experience' column? What is the distribution of these categories?\n",
    "2. Is there a significant difference in outcomes between different age groups?\n",
    "3. Calculate the percentage of missing values in each column. Which columns have the highest percentage of missing values?\n",
    "4. Create a new feature 'claims_per_year' by dividing the 'past_accidents' by the number of years of driving experience.\n",
    "5. Find the distribution of the claim outcomes. What does this tell you about the nature of insurance claims?\n",
    "\n",
    "### Data Visualization\n",
    "\n",
    "1. Create a heatmap of the correlation matrix for all numerical variables. What insights can you draw from this visualization?\n",
    "2. Generate a pair plot for age, credit_score, past_accidents, and DUIs. What patterns or relationships do you observe?\n",
    "3. Create a visualization showing the proportion of claims by driving experience categories and age groups\n",
    "\n",
    "### Risk Assessment\n",
    "\n",
    "1. Create a calculation to derive a new metric 'risk score'.\n",
    "2. Create a function that categorizes policyholders into 'Low', 'Medium', and 'High' risk based on your risk score. What percentage of policyholders fall into each category?\n",
    "\n"
   ]
  },
  {
   "cell_type": "markdown",
   "metadata": {},
   "source": [
    "\n",
    "## Example Analysis\n",
    "### 1. Load and explore the dataset\n"
   ]
  },
  {
   "cell_type": "code",
   "execution_count": null,
   "metadata": {},
   "outputs": [],
   "source": [
    "\n",
    "import pandas as pd\n",
    "import numpy as np\n",
    "import matplotlib.pyplot as plt\n",
    "import seaborn as sns\n"
   ]
  },
  {
   "cell_type": "code",
   "execution_count": null,
   "metadata": {},
   "outputs": [],
   "source": [
    "\n",
    "# Load the dataset\n",
    "df = pd.read_csv('data/car_insurance_claim.csv')\n"
   ]
  },
  {
   "cell_type": "code",
   "execution_count": null,
   "metadata": {},
   "outputs": [],
   "source": [
    "# Display basic information about the dataset\n",
    "df.info()\n"
   ]
  },
  {
   "cell_type": "code",
   "execution_count": null,
   "metadata": {},
   "outputs": [],
   "source": [
    "# Show the first few rows\n",
    "df.head()\n"
   ]
  },
  {
   "cell_type": "code",
   "execution_count": null,
   "metadata": {},
   "outputs": [],
   "source": [
    "# Display summary statistics\n",
    "df.describe()\n"
   ]
  },
  {
   "cell_type": "code",
   "execution_count": null,
   "metadata": {},
   "outputs": [],
   "source": [
    "df.columns = df.columns.str.lower()"
   ]
  },
  {
   "cell_type": "markdown",
   "metadata": {},
   "source": [
    "\n",
    "### 2. Preprocess the data\n"
   ]
  },
  {
   "cell_type": "code",
   "execution_count": null,
   "metadata": {},
   "outputs": [],
   "source": [
    "# Handle missing values\n",
    "df['credit_score'].fillna(df['credit_score'].mean(), inplace=True)\n",
    "\n",
    "df['annual_mileage'].fillna(df['annual_mileage'].mean(), inplace=True)\n"
   ]
  },
  {
   "cell_type": "markdown",
   "metadata": {},
   "source": [
    "\n",
    "### 3. Perform basic statistical analysis\n"
   ]
  },
  {
   "cell_type": "code",
   "execution_count": null,
   "metadata": {},
   "outputs": [],
   "source": [
    "df.describe()"
   ]
  },
  {
   "cell_type": "code",
   "execution_count": null,
   "metadata": {},
   "outputs": [],
   "source": [
    "cols = [\n",
    "    'credit_score',\n",
    "    'vehicle_ownership',\n",
    "    'married',\n",
    "    'children',\n",
    "    'annual_mileage',\n",
    "    'speeding_violations',\n",
    "    'duis',\n",
    "    'past_accidents',\n",
    "    'outcome'\n",
    "]\n",
    "\n",
    "df[cols].corr()"
   ]
  },
  {
   "cell_type": "code",
   "execution_count": null,
   "metadata": {},
   "outputs": [],
   "source": [
    "heatmap = sns.heatmap(df[cols].corr(), annot=True)"
   ]
  },
  {
   "cell_type": "markdown",
   "metadata": {},
   "source": [
    "\n",
    "### 4. Visualize mileage distributions\n"
   ]
  },
  {
   "cell_type": "code",
   "execution_count": null,
   "metadata": {},
   "outputs": [],
   "source": [
    "\n",
    "plt.figure(figsize=(10, 6))\n",
    "plt.hist(df['annual_mileage'])\n",
    "plt.title('Annual Mileage Distribution')\n",
    "plt.xlabel('Annual Mileage')\n",
    "plt.ylabel('Frequency')\n",
    "plt.show()\n"
   ]
  },
  {
   "cell_type": "markdown",
   "metadata": {},
   "source": [
    "\n",
    "### 5. Analyze the relationship between variables\n"
   ]
  },
  {
   "cell_type": "code",
   "execution_count": null,
   "metadata": {},
   "outputs": [],
   "source": [
    "fig, ax1 = plt.subplots()\n",
    "\n",
    "ax1.bar(df['past_accidents'].unique(), df['past_accidents'].value_counts())\n",
    "ax1.set_xlabel('Past Accidents')\n",
    "ax1.set_ylabel('Count')\n",
    "\n",
    "ax2 = ax1.twinx()\n",
    "ax2.plot(df.groupby('past_accidents')['outcome'].mean(), color='red')\n",
    "ax2.set_ylabel('Mean Outcome')"
   ]
  },
  {
   "cell_type": "code",
   "execution_count": null,
   "metadata": {},
   "outputs": [],
   "source": [
    "fig, ax1 = plt.subplots()\n",
    "\n",
    "ax1.bar(df['duis'].unique(), df['duis'].value_counts())\n",
    "ax1.set_xlabel('DUIs')\n",
    "ax1.set_ylabel('Count')\n",
    "\n",
    "ax2 = ax1.twinx()\n",
    "ax2.plot(df.groupby('duis')['outcome'].mean(), color='red')\n",
    "ax2.set_ylabel('Mean Outcome')"
   ]
  },
  {
   "cell_type": "code",
   "execution_count": null,
   "metadata": {},
   "outputs": [],
   "source": [
    "fig, ax1 = plt.subplots()\n",
    "\n",
    "ax1.bar(df['speeding_violations'].unique(), df['speeding_violations'].value_counts())\n",
    "ax1.set_xlabel('Speeding Violations')\n",
    "ax1.set_ylabel('Count')\n",
    "\n",
    "ax2 = ax1.twinx()\n",
    "ax2.plot(df.groupby('speeding_violations')['outcome'].mean(), color='red')\n",
    "ax2.set_ylabel('Mean Outcome')"
   ]
  },
  {
   "cell_type": "code",
   "execution_count": null,
   "metadata": {},
   "outputs": [],
   "source": []
  },
  {
   "cell_type": "markdown",
   "metadata": {},
   "source": [
    "## Actual analysis"
   ]
  },
  {
   "cell_type": "code",
   "execution_count": null,
   "metadata": {},
   "outputs": [],
   "source": []
  },
  {
   "cell_type": "code",
   "execution_count": null,
   "metadata": {},
   "outputs": [],
   "source": []
  },
  {
   "cell_type": "code",
   "execution_count": null,
   "metadata": {},
   "outputs": [],
   "source": []
  },
  {
   "cell_type": "markdown",
   "metadata": {},
   "source": [
    "## Creating a script"
   ]
  },
  {
   "cell_type": "markdown",
   "metadata": {},
   "source": [
    "- Given the code as a guideline, make the notebook reusable using CLI, by converting it into a script and using arguments to run in different configurations\n",
    "- You can think of different ways to use CLI to make it more robust. Examples:\n",
    "    - Use argparse to create flags on which analysis to do individually (or all)\n",
    "    - Use argparse to create a new parameter to pass image output locations\n",
    "\n",
    "---\n",
    "\n",
    "**A more thorough example scenario:**\n",
    "- Use CLI to make a runnable script that accepts a CSV and outputs the following:\n",
    "    - A cleaned CSV without any missing values and contains some new derived metrics/values\n",
    "    - A heatmap of the correlation matrix for numerical values\n",
    "    - A pair plot of numerical values"
   ]
  },
  {
   "cell_type": "code",
   "execution_count": null,
   "metadata": {},
   "outputs": [],
   "source": [
    "import argparse\n",
    "import os"
   ]
  },
  {
   "cell_type": "code",
   "execution_count": null,
   "metadata": {},
   "outputs": [],
   "source": [
    "parser = argparse.ArgumentParser()"
   ]
  },
  {
   "cell_type": "code",
   "execution_count": null,
   "metadata": {},
   "outputs": [],
   "source": [
    "parser.add_argument('-p', '--path',)\n",
    "parser.add_argument('--dpi', default='300')"
   ]
  },
  {
   "cell_type": "code",
   "execution_count": null,
   "metadata": {},
   "outputs": [],
   "source": [
    "# parser.parse_args()"
   ]
  },
  {
   "cell_type": "code",
   "execution_count": null,
   "metadata": {},
   "outputs": [],
   "source": [
    "def save_figure(figure, dest: str = 'images/', kind: str = 'matplotlib'):\n",
    "\n",
    "    EXTENSION = '.png'\n",
    "\n",
    "    if kind != 'matplotlib' and kind != 'seaborn':\n",
    "        raise ValueError('kind must be one of matplotlib or seaborn')\n",
    "    \n",
    "    if dest == 'images/':\n",
    "        files_list = os.listdir(dest)\n",
    "\n",
    "        for i in range(len(files_list)+1):\n",
    "            if str(i)+EXTENSION in files_list:\n",
    "                continue\n",
    "            else:\n",
    "                dest = dest + str(i)+EXTENSION\n",
    "                break\n",
    "\n",
    "    if kind == 'matplotlib':\n",
    "        figure.savefig(dest, bbox_inches=\"tight\")\n",
    "    elif kind == 'seaborn':\n",
    "        figure.get_figure().savefig(dest, bbox_inches=\"tight\")\n",
    "\n",
    "\n",
    "        "
   ]
  },
  {
   "cell_type": "code",
   "execution_count": null,
   "metadata": {},
   "outputs": [],
   "source": []
  },
  {
   "cell_type": "code",
   "execution_count": null,
   "metadata": {},
   "outputs": [],
   "source": []
  }
 ],
 "metadata": {
  "kernelspec": {
   "display_name": "tutor-an",
   "language": "python",
   "name": "python3"
  },
  "language_info": {
   "codemirror_mode": {
    "name": "ipython",
    "version": 3
   },
   "file_extension": ".py",
   "mimetype": "text/x-python",
   "name": "python",
   "nbconvert_exporter": "python",
   "pygments_lexer": "ipython3",
   "version": "3.11.9"
  }
 },
 "nbformat": 4,
 "nbformat_minor": 2
}
