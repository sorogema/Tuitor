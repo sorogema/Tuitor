{
 "cells": [
  {
   "cell_type": "code",
   "execution_count": 47,
   "metadata": {},
   "outputs": [],
   "source": [
    "import pandas as pd\n",
    "import numpy as np"
   ]
  },
  {
   "cell_type": "code",
   "execution_count": 48,
   "metadata": {},
   "outputs": [],
   "source": [
    "df_loans = pd.read_csv('D:\\Documents\\Tuitor\\Data\\MoneyLion\\data\\loan.csv', low_memory=False)"
   ]
  },
  {
   "cell_type": "code",
   "execution_count": 49,
   "metadata": {},
   "outputs": [
    {
     "name": "stdout",
     "output_type": "stream",
     "text": [
      "<class 'pandas.core.frame.DataFrame'>\n",
      "RangeIndex: 577682 entries, 0 to 577681\n",
      "Data columns (total 19 columns):\n",
      " #   Column                            Non-Null Count   Dtype  \n",
      "---  ------                            --------------   -----  \n",
      " 0   loanId                            577426 non-null  object \n",
      " 1   anon_ssn                          577682 non-null  object \n",
      " 2   payFrequency                      576409 non-null  object \n",
      " 3   apr                               573760 non-null  float64\n",
      " 4   applicationDate                   577682 non-null  object \n",
      " 5   originated                        577682 non-null  bool   \n",
      " 6   originatedDate                    46044 non-null   object \n",
      " 7   nPaidOff                          577658 non-null  float64\n",
      " 8   approved                          577682 non-null  bool   \n",
      " 9   isFunded                          577682 non-null  int64  \n",
      " 10  loanStatus                        577291 non-null  object \n",
      " 11  loanAmount                        575432 non-null  float64\n",
      " 12  originallyScheduledPaymentAmount  577682 non-null  float64\n",
      " 13  state                             577550 non-null  object \n",
      " 14  leadType                          577682 non-null  object \n",
      " 15  leadCost                          577682 non-null  int64  \n",
      " 16  fpStatus                          51723 non-null   object \n",
      " 17  clarityFraudId                    357693 non-null  object \n",
      " 18  hasCF                             577682 non-null  int64  \n",
      "dtypes: bool(2), float64(4), int64(3), object(10)\n",
      "memory usage: 76.0+ MB\n"
     ]
    }
   ],
   "source": [
    "df_loans.info()"
   ]
  },
  {
   "cell_type": "code",
   "execution_count": 50,
   "metadata": {},
   "outputs": [
    {
     "data": {
      "text/html": [
       "<div>\n",
       "<style scoped>\n",
       "    .dataframe tbody tr th:only-of-type {\n",
       "        vertical-align: middle;\n",
       "    }\n",
       "\n",
       "    .dataframe tbody tr th {\n",
       "        vertical-align: top;\n",
       "    }\n",
       "\n",
       "    .dataframe thead th {\n",
       "        text-align: right;\n",
       "    }\n",
       "</style>\n",
       "<table border=\"1\" class=\"dataframe\">\n",
       "  <thead>\n",
       "    <tr style=\"text-align: right;\">\n",
       "      <th></th>\n",
       "      <th>loanId</th>\n",
       "      <th>anon_ssn</th>\n",
       "      <th>payFrequency</th>\n",
       "      <th>apr</th>\n",
       "      <th>applicationDate</th>\n",
       "      <th>originated</th>\n",
       "      <th>originatedDate</th>\n",
       "      <th>nPaidOff</th>\n",
       "      <th>approved</th>\n",
       "      <th>isFunded</th>\n",
       "      <th>loanStatus</th>\n",
       "      <th>loanAmount</th>\n",
       "      <th>originallyScheduledPaymentAmount</th>\n",
       "      <th>state</th>\n",
       "      <th>leadType</th>\n",
       "      <th>leadCost</th>\n",
       "      <th>fpStatus</th>\n",
       "      <th>clarityFraudId</th>\n",
       "      <th>hasCF</th>\n",
       "    </tr>\n",
       "  </thead>\n",
       "  <tbody>\n",
       "    <tr>\n",
       "      <th>0</th>\n",
       "      <td>LL-I-07399092</td>\n",
       "      <td>beff4989be82aab4a5b47679216942fd</td>\n",
       "      <td>B</td>\n",
       "      <td>360.0</td>\n",
       "      <td>2016-02-23T17:29:01.940000</td>\n",
       "      <td>False</td>\n",
       "      <td>NaN</td>\n",
       "      <td>0.0</td>\n",
       "      <td>False</td>\n",
       "      <td>0</td>\n",
       "      <td>Withdrawn Application</td>\n",
       "      <td>500.0</td>\n",
       "      <td>978.27</td>\n",
       "      <td>IL</td>\n",
       "      <td>bvMandatory</td>\n",
       "      <td>6</td>\n",
       "      <td>NaN</td>\n",
       "      <td>5669ef78e4b0c9d3936440e6</td>\n",
       "      <td>1</td>\n",
       "    </tr>\n",
       "    <tr>\n",
       "      <th>1</th>\n",
       "      <td>LL-I-06644937</td>\n",
       "      <td>464f5d9ae4fa09ece4048d949191865c</td>\n",
       "      <td>B</td>\n",
       "      <td>199.0</td>\n",
       "      <td>2016-01-19T22:07:36.778000</td>\n",
       "      <td>True</td>\n",
       "      <td>2016-01-20T15:49:18.846000</td>\n",
       "      <td>0.0</td>\n",
       "      <td>True</td>\n",
       "      <td>1</td>\n",
       "      <td>Paid Off Loan</td>\n",
       "      <td>3000.0</td>\n",
       "      <td>6395.19</td>\n",
       "      <td>CA</td>\n",
       "      <td>prescreen</td>\n",
       "      <td>0</td>\n",
       "      <td>Checked</td>\n",
       "      <td>569eb3a3e4b096699f685d64</td>\n",
       "      <td>1</td>\n",
       "    </tr>\n",
       "    <tr>\n",
       "      <th>2</th>\n",
       "      <td>LL-I-10707532</td>\n",
       "      <td>3c174ae9e2505a5f9ddbff9843281845</td>\n",
       "      <td>B</td>\n",
       "      <td>590.0</td>\n",
       "      <td>2016-08-01T13:51:14.709000</td>\n",
       "      <td>False</td>\n",
       "      <td>NaN</td>\n",
       "      <td>0.0</td>\n",
       "      <td>False</td>\n",
       "      <td>0</td>\n",
       "      <td>Withdrawn Application</td>\n",
       "      <td>400.0</td>\n",
       "      <td>1199.45</td>\n",
       "      <td>MO</td>\n",
       "      <td>bvMandatory</td>\n",
       "      <td>3</td>\n",
       "      <td>NaN</td>\n",
       "      <td>579eab11e4b0d0502870ef2f</td>\n",
       "      <td>1</td>\n",
       "    </tr>\n",
       "    <tr>\n",
       "      <th>3</th>\n",
       "      <td>LL-I-02272596</td>\n",
       "      <td>9be6f443bb97db7e95fa0c281d34da91</td>\n",
       "      <td>B</td>\n",
       "      <td>360.0</td>\n",
       "      <td>2015-08-06T23:58:08.880000</td>\n",
       "      <td>False</td>\n",
       "      <td>NaN</td>\n",
       "      <td>0.0</td>\n",
       "      <td>False</td>\n",
       "      <td>0</td>\n",
       "      <td>Withdrawn Application</td>\n",
       "      <td>500.0</td>\n",
       "      <td>1074.05</td>\n",
       "      <td>IL</td>\n",
       "      <td>bvMandatory</td>\n",
       "      <td>3</td>\n",
       "      <td>NaN</td>\n",
       "      <td>555b1e95e4b0f6f11b267c18</td>\n",
       "      <td>1</td>\n",
       "    </tr>\n",
       "    <tr>\n",
       "      <th>4</th>\n",
       "      <td>LL-I-09542882</td>\n",
       "      <td>63b5494f60b5c19c827c7b068443752c</td>\n",
       "      <td>B</td>\n",
       "      <td>590.0</td>\n",
       "      <td>2016-06-05T22:31:34.304000</td>\n",
       "      <td>False</td>\n",
       "      <td>NaN</td>\n",
       "      <td>0.0</td>\n",
       "      <td>False</td>\n",
       "      <td>0</td>\n",
       "      <td>Rejected</td>\n",
       "      <td>350.0</td>\n",
       "      <td>814.37</td>\n",
       "      <td>NV</td>\n",
       "      <td>bvMandatory</td>\n",
       "      <td>3</td>\n",
       "      <td>NaN</td>\n",
       "      <td>5754a91be4b0c6a2bf424772</td>\n",
       "      <td>1</td>\n",
       "    </tr>\n",
       "  </tbody>\n",
       "</table>\n",
       "</div>"
      ],
      "text/plain": [
       "          loanId                          anon_ssn payFrequency    apr  \\\n",
       "0  LL-I-07399092  beff4989be82aab4a5b47679216942fd            B  360.0   \n",
       "1  LL-I-06644937  464f5d9ae4fa09ece4048d949191865c            B  199.0   \n",
       "2  LL-I-10707532  3c174ae9e2505a5f9ddbff9843281845            B  590.0   \n",
       "3  LL-I-02272596  9be6f443bb97db7e95fa0c281d34da91            B  360.0   \n",
       "4  LL-I-09542882  63b5494f60b5c19c827c7b068443752c            B  590.0   \n",
       "\n",
       "              applicationDate  originated              originatedDate  \\\n",
       "0  2016-02-23T17:29:01.940000       False                         NaN   \n",
       "1  2016-01-19T22:07:36.778000        True  2016-01-20T15:49:18.846000   \n",
       "2  2016-08-01T13:51:14.709000       False                         NaN   \n",
       "3  2015-08-06T23:58:08.880000       False                         NaN   \n",
       "4  2016-06-05T22:31:34.304000       False                         NaN   \n",
       "\n",
       "   nPaidOff  approved  isFunded             loanStatus  loanAmount  \\\n",
       "0       0.0     False         0  Withdrawn Application       500.0   \n",
       "1       0.0      True         1          Paid Off Loan      3000.0   \n",
       "2       0.0     False         0  Withdrawn Application       400.0   \n",
       "3       0.0     False         0  Withdrawn Application       500.0   \n",
       "4       0.0     False         0               Rejected       350.0   \n",
       "\n",
       "   originallyScheduledPaymentAmount state     leadType  leadCost fpStatus  \\\n",
       "0                            978.27    IL  bvMandatory         6      NaN   \n",
       "1                           6395.19    CA    prescreen         0  Checked   \n",
       "2                           1199.45    MO  bvMandatory         3      NaN   \n",
       "3                           1074.05    IL  bvMandatory         3      NaN   \n",
       "4                            814.37    NV  bvMandatory         3      NaN   \n",
       "\n",
       "             clarityFraudId  hasCF  \n",
       "0  5669ef78e4b0c9d3936440e6      1  \n",
       "1  569eb3a3e4b096699f685d64      1  \n",
       "2  579eab11e4b0d0502870ef2f      1  \n",
       "3  555b1e95e4b0f6f11b267c18      1  \n",
       "4  5754a91be4b0c6a2bf424772      1  "
      ]
     },
     "execution_count": 50,
     "metadata": {},
     "output_type": "execute_result"
    }
   ],
   "source": [
    "df_loans.head(5)"
   ]
  },
  {
   "cell_type": "code",
   "execution_count": 51,
   "metadata": {},
   "outputs": [],
   "source": [
    "df_payment = pd.read_csv('D:\\Documents\\Tuitor\\Data\\MoneyLion\\data\\payment.csv')"
   ]
  },
  {
   "cell_type": "code",
   "execution_count": 52,
   "metadata": {},
   "outputs": [
    {
     "name": "stdout",
     "output_type": "stream",
     "text": [
      "<class 'pandas.core.frame.DataFrame'>\n",
      "RangeIndex: 689364 entries, 0 to 689363\n",
      "Data columns (total 9 columns):\n",
      " #   Column             Non-Null Count   Dtype  \n",
      "---  ------             --------------   -----  \n",
      " 0   loanId             689364 non-null  object \n",
      " 1   installmentIndex   689364 non-null  int64  \n",
      " 2   isCollection       689364 non-null  bool   \n",
      " 3   paymentDate        689364 non-null  object \n",
      " 4   principal          689364 non-null  float64\n",
      " 5   fees               689364 non-null  float64\n",
      " 6   paymentAmount      689364 non-null  float64\n",
      " 7   paymentStatus      525307 non-null  object \n",
      " 8   paymentReturnCode  31533 non-null   object \n",
      "dtypes: bool(1), float64(3), int64(1), object(4)\n",
      "memory usage: 42.7+ MB\n"
     ]
    }
   ],
   "source": [
    "df_payment.info()"
   ]
  },
  {
   "cell_type": "code",
   "execution_count": 53,
   "metadata": {},
   "outputs": [
    {
     "data": {
      "text/html": [
       "<div>\n",
       "<style scoped>\n",
       "    .dataframe tbody tr th:only-of-type {\n",
       "        vertical-align: middle;\n",
       "    }\n",
       "\n",
       "    .dataframe tbody tr th {\n",
       "        vertical-align: top;\n",
       "    }\n",
       "\n",
       "    .dataframe thead th {\n",
       "        text-align: right;\n",
       "    }\n",
       "</style>\n",
       "<table border=\"1\" class=\"dataframe\">\n",
       "  <thead>\n",
       "    <tr style=\"text-align: right;\">\n",
       "      <th></th>\n",
       "      <th>loanId</th>\n",
       "      <th>installmentIndex</th>\n",
       "      <th>isCollection</th>\n",
       "      <th>paymentDate</th>\n",
       "      <th>principal</th>\n",
       "      <th>fees</th>\n",
       "      <th>paymentAmount</th>\n",
       "      <th>paymentStatus</th>\n",
       "      <th>paymentReturnCode</th>\n",
       "    </tr>\n",
       "  </thead>\n",
       "  <tbody>\n",
       "    <tr>\n",
       "      <th>0</th>\n",
       "      <td>LL-I-00000021</td>\n",
       "      <td>1</td>\n",
       "      <td>False</td>\n",
       "      <td>2014-12-19T05:00:00</td>\n",
       "      <td>22.33</td>\n",
       "      <td>147.28</td>\n",
       "      <td>169.61</td>\n",
       "      <td>Checked</td>\n",
       "      <td>NaN</td>\n",
       "    </tr>\n",
       "    <tr>\n",
       "      <th>1</th>\n",
       "      <td>LL-I-00000021</td>\n",
       "      <td>2</td>\n",
       "      <td>False</td>\n",
       "      <td>2015-01-02T05:00:00</td>\n",
       "      <td>26.44</td>\n",
       "      <td>143.17</td>\n",
       "      <td>169.61</td>\n",
       "      <td>Checked</td>\n",
       "      <td>NaN</td>\n",
       "    </tr>\n",
       "    <tr>\n",
       "      <th>2</th>\n",
       "      <td>LL-I-00000021</td>\n",
       "      <td>3</td>\n",
       "      <td>False</td>\n",
       "      <td>2015-01-16T05:00:00</td>\n",
       "      <td>31.30</td>\n",
       "      <td>138.31</td>\n",
       "      <td>169.61</td>\n",
       "      <td>Checked</td>\n",
       "      <td>NaN</td>\n",
       "    </tr>\n",
       "    <tr>\n",
       "      <th>3</th>\n",
       "      <td>LL-I-00000021</td>\n",
       "      <td>4</td>\n",
       "      <td>False</td>\n",
       "      <td>2015-01-30T05:00:00</td>\n",
       "      <td>37.07</td>\n",
       "      <td>132.54</td>\n",
       "      <td>169.61</td>\n",
       "      <td>Checked</td>\n",
       "      <td>NaN</td>\n",
       "    </tr>\n",
       "    <tr>\n",
       "      <th>4</th>\n",
       "      <td>LL-I-00000021</td>\n",
       "      <td>5</td>\n",
       "      <td>False</td>\n",
       "      <td>2015-02-13T05:00:00</td>\n",
       "      <td>43.89</td>\n",
       "      <td>125.72</td>\n",
       "      <td>169.61</td>\n",
       "      <td>Checked</td>\n",
       "      <td>NaN</td>\n",
       "    </tr>\n",
       "    <tr>\n",
       "      <th>5</th>\n",
       "      <td>LL-I-00000021</td>\n",
       "      <td>6</td>\n",
       "      <td>False</td>\n",
       "      <td>2015-02-27T05:00:00</td>\n",
       "      <td>51.97</td>\n",
       "      <td>117.64</td>\n",
       "      <td>169.61</td>\n",
       "      <td>Checked</td>\n",
       "      <td>NaN</td>\n",
       "    </tr>\n",
       "    <tr>\n",
       "      <th>6</th>\n",
       "      <td>LL-I-00000021</td>\n",
       "      <td>7</td>\n",
       "      <td>False</td>\n",
       "      <td>2015-03-13T04:00:00</td>\n",
       "      <td>61.54</td>\n",
       "      <td>108.07</td>\n",
       "      <td>169.61</td>\n",
       "      <td>Checked</td>\n",
       "      <td>NaN</td>\n",
       "    </tr>\n",
       "    <tr>\n",
       "      <th>7</th>\n",
       "      <td>LL-I-00000021</td>\n",
       "      <td>8</td>\n",
       "      <td>False</td>\n",
       "      <td>2015-03-27T04:00:00</td>\n",
       "      <td>72.87</td>\n",
       "      <td>96.74</td>\n",
       "      <td>169.61</td>\n",
       "      <td>Checked</td>\n",
       "      <td>NaN</td>\n",
       "    </tr>\n",
       "    <tr>\n",
       "      <th>8</th>\n",
       "      <td>LL-I-00000021</td>\n",
       "      <td>9</td>\n",
       "      <td>False</td>\n",
       "      <td>2015-04-10T04:00:00</td>\n",
       "      <td>86.29</td>\n",
       "      <td>83.32</td>\n",
       "      <td>169.61</td>\n",
       "      <td>Checked</td>\n",
       "      <td>NaN</td>\n",
       "    </tr>\n",
       "    <tr>\n",
       "      <th>9</th>\n",
       "      <td>LL-I-00000021</td>\n",
       "      <td>10</td>\n",
       "      <td>False</td>\n",
       "      <td>2015-04-24T04:00:00</td>\n",
       "      <td>102.17</td>\n",
       "      <td>67.44</td>\n",
       "      <td>169.61</td>\n",
       "      <td>Rejected</td>\n",
       "      <td>R01</td>\n",
       "    </tr>\n",
       "  </tbody>\n",
       "</table>\n",
       "</div>"
      ],
      "text/plain": [
       "          loanId  installmentIndex  isCollection          paymentDate  \\\n",
       "0  LL-I-00000021                 1         False  2014-12-19T05:00:00   \n",
       "1  LL-I-00000021                 2         False  2015-01-02T05:00:00   \n",
       "2  LL-I-00000021                 3         False  2015-01-16T05:00:00   \n",
       "3  LL-I-00000021                 4         False  2015-01-30T05:00:00   \n",
       "4  LL-I-00000021                 5         False  2015-02-13T05:00:00   \n",
       "5  LL-I-00000021                 6         False  2015-02-27T05:00:00   \n",
       "6  LL-I-00000021                 7         False  2015-03-13T04:00:00   \n",
       "7  LL-I-00000021                 8         False  2015-03-27T04:00:00   \n",
       "8  LL-I-00000021                 9         False  2015-04-10T04:00:00   \n",
       "9  LL-I-00000021                10         False  2015-04-24T04:00:00   \n",
       "\n",
       "   principal    fees  paymentAmount paymentStatus paymentReturnCode  \n",
       "0      22.33  147.28         169.61       Checked               NaN  \n",
       "1      26.44  143.17         169.61       Checked               NaN  \n",
       "2      31.30  138.31         169.61       Checked               NaN  \n",
       "3      37.07  132.54         169.61       Checked               NaN  \n",
       "4      43.89  125.72         169.61       Checked               NaN  \n",
       "5      51.97  117.64         169.61       Checked               NaN  \n",
       "6      61.54  108.07         169.61       Checked               NaN  \n",
       "7      72.87   96.74         169.61       Checked               NaN  \n",
       "8      86.29   83.32         169.61       Checked               NaN  \n",
       "9     102.17   67.44         169.61      Rejected               R01  "
      ]
     },
     "execution_count": 53,
     "metadata": {},
     "output_type": "execute_result"
    }
   ],
   "source": [
    "df_payment.head(10)"
   ]
  },
  {
   "cell_type": "code",
   "execution_count": 54,
   "metadata": {},
   "outputs": [],
   "source": [
    "df_uw = pd.read_csv('D:\\Documents\\Tuitor\\Data\\MoneyLion\\data\\clarity_underwriting_variables.csv', low_memory=False)"
   ]
  },
  {
   "cell_type": "code",
   "execution_count": 55,
   "metadata": {},
   "outputs": [
    {
     "name": "stdout",
     "output_type": "stream",
     "text": [
      "<class 'pandas.core.frame.DataFrame'>\n",
      "RangeIndex: 49752 entries, 0 to 49751\n",
      "Data columns (total 54 columns):\n",
      " #   Column                                                                                               Non-Null Count  Dtype  \n",
      "---  ------                                                                                               --------------  -----  \n",
      " 0   .underwritingdataclarity.clearfraud.clearfraudinquiry.thirtydaysago                                  49750 non-null  float64\n",
      " 1   .underwritingdataclarity.clearfraud.clearfraudinquiry.twentyfourhoursago                             49750 non-null  float64\n",
      " 2   .underwritingdataclarity.clearfraud.clearfraudinquiry.oneminuteago                                   49750 non-null  float64\n",
      " 3   .underwritingdataclarity.clearfraud.clearfraudinquiry.onehourago                                     49750 non-null  float64\n",
      " 4   .underwritingdataclarity.clearfraud.clearfraudinquiry.ninetydaysago                                  49750 non-null  float64\n",
      " 5   .underwritingdataclarity.clearfraud.clearfraudinquiry.sevendaysago                                   49750 non-null  float64\n",
      " 6   .underwritingdataclarity.clearfraud.clearfraudinquiry.tenminutesago                                  49750 non-null  float64\n",
      " 7   .underwritingdataclarity.clearfraud.clearfraudinquiry.fifteendaysago                                 49750 non-null  float64\n",
      " 8   .underwritingdataclarity.clearfraud.clearfraudinquiry.threesixtyfivedaysago                          49750 non-null  float64\n",
      " 9   .underwritingdataclarity.clearfraud.clearfraudindicator.inquiryonfilecurrentaddressconflict          49712 non-null  object \n",
      " 10  .underwritingdataclarity.clearfraud.clearfraudindicator.totalnumberoffraudindicators                 49735 non-null  float64\n",
      " 11  .underwritingdataclarity.clearfraud.clearfraudindicator.telephonenumberinconsistentwithaddress       49712 non-null  object \n",
      " 12  .underwritingdataclarity.clearfraud.clearfraudindicator.inquiryageyoungerthanssnissuedate            49712 non-null  object \n",
      " 13  .underwritingdataclarity.clearfraud.clearfraudindicator.onfileaddresscautious                        49712 non-null  object \n",
      " 14  .underwritingdataclarity.clearfraud.clearfraudindicator.inquiryaddressnonresidential                 49712 non-null  object \n",
      " 15  .underwritingdataclarity.clearfraud.clearfraudindicator.onfileaddresshighrisk                        49712 non-null  object \n",
      " 16  .underwritingdataclarity.clearfraud.clearfraudindicator.ssnreportedmorefrequentlyforanother          49712 non-null  object \n",
      " 17  .underwritingdataclarity.clearfraud.clearfraudindicator.currentaddressreportedbytradeopenlt90days    49712 non-null  object \n",
      " 18  .underwritingdataclarity.clearfraud.clearfraudindicator.inputssninvalid                              49712 non-null  object \n",
      " 19  .underwritingdataclarity.clearfraud.clearfraudindicator.inputssnissuedatecannotbeverified            49712 non-null  object \n",
      " 20  .underwritingdataclarity.clearfraud.clearfraudindicator.inquiryaddresscautious                       49712 non-null  object \n",
      " 21  .underwritingdataclarity.clearfraud.clearfraudindicator.morethan3inquiriesinthelast30days            49712 non-null  object \n",
      " 22  .underwritingdataclarity.clearfraud.clearfraudindicator.onfileaddressnonresidential                  49712 non-null  object \n",
      " 23  .underwritingdataclarity.clearfraud.clearfraudindicator.creditestablishedpriortossnissuedate         49712 non-null  object \n",
      " 24  .underwritingdataclarity.clearfraud.clearfraudindicator.driverlicenseformatinvalid                   44703 non-null  object \n",
      " 25  .underwritingdataclarity.clearfraud.clearfraudindicator.inputssnrecordedasdeceased                   49712 non-null  object \n",
      " 26  .underwritingdataclarity.clearfraud.clearfraudindicator.inquiryaddresshighrisk                       49712 non-null  object \n",
      " 27  .underwritingdataclarity.clearfraud.clearfraudindicator.inquirycurrentaddressnotonfile               49712 non-null  object \n",
      " 28  .underwritingdataclarity.clearfraud.clearfraudindicator.bestonfilessnissuedatecannotbeverified       49712 non-null  object \n",
      " 29  .underwritingdataclarity.clearfraud.clearfraudindicator.highprobabilityssnbelongstoanother           49712 non-null  object \n",
      " 30  .underwritingdataclarity.clearfraud.clearfraudindicator.maxnumberofssnswithanybankaccount            49735 non-null  float64\n",
      " 31  .underwritingdataclarity.clearfraud.clearfraudindicator.bestonfilessnrecordedasdeceased              49712 non-null  object \n",
      " 32  .underwritingdataclarity.clearfraud.clearfraudindicator.currentaddressreportedbynewtradeonly         49712 non-null  object \n",
      " 33  .underwritingdataclarity.clearfraud.clearfraudindicator.creditestablishedbeforeage18                 49712 non-null  object \n",
      " 34  .underwritingdataclarity.clearfraud.clearfraudindicator.telephonenumberinconsistentwithstate         49071 non-null  object \n",
      " 35  .underwritingdataclarity.clearfraud.clearfraudindicator.driverlicenseinconsistentwithonfile          10055 non-null  object \n",
      " 36  .underwritingdataclarity.clearfraud.clearfraudindicator.workphonepreviouslylistedascellphone         21416 non-null  object \n",
      " 37  .underwritingdataclarity.clearfraud.clearfraudindicator.workphonepreviouslylistedashomephone         21416 non-null  object \n",
      " 38  .underwritingdataclarity.clearfraud.clearfraudidentityverification.ssnnamematch                      49720 non-null  object \n",
      " 39  .underwritingdataclarity.clearfraud.clearfraudidentityverification.nameaddressmatch                  49720 non-null  object \n",
      " 40  .underwritingdataclarity.clearfraud.clearfraudidentityverification.phonematchtype                    48799 non-null  object \n",
      " 41  .underwritingdataclarity.clearfraud.clearfraudidentityverification.ssnnamereasoncodedescription      2669 non-null   object \n",
      " 42  .underwritingdataclarity.clearfraud.clearfraudidentityverification.phonematchresult                  49712 non-null  object \n",
      " 43  .underwritingdataclarity.clearfraud.clearfraudidentityverification.nameaddressreasoncodedescription  5627 non-null   object \n",
      " 44  .underwritingdataclarity.clearfraud.clearfraudidentityverification.phonematchtypedescription         48799 non-null  object \n",
      " 45  .underwritingdataclarity.clearfraud.clearfraudidentityverification.overallmatchresult                49720 non-null  object \n",
      " 46  .underwritingdataclarity.clearfraud.clearfraudidentityverification.phonetype                         1515 non-null   object \n",
      " 47  .underwritingdataclarity.clearfraud.clearfraudidentityverification.ssndobreasoncode                  9029 non-null   object \n",
      " 48  .underwritingdataclarity.clearfraud.clearfraudidentityverification.ssnnamereasoncode                 2669 non-null   object \n",
      " 49  .underwritingdataclarity.clearfraud.clearfraudidentityverification.nameaddressreasoncode             5627 non-null   object \n",
      " 50  .underwritingdataclarity.clearfraud.clearfraudidentityverification.ssndobmatch                       49720 non-null  object \n",
      " 51  .underwritingdataclarity.clearfraud.clearfraudidentityverification.overallmatchreasoncode            49720 non-null  float64\n",
      " 52  clearfraudscore                                                                                      49615 non-null  float64\n",
      " 53  underwritingid                                                                                       49752 non-null  object \n",
      "dtypes: float64(13), object(41)\n",
      "memory usage: 20.5+ MB\n"
     ]
    }
   ],
   "source": [
    "df_uw.info()"
   ]
  },
  {
   "cell_type": "markdown",
   "metadata": {},
   "source": [
    "Data exploration and preprocessing:\n",
    "\n",
    "- How many unique loans are in the dataset?\n",
    "- Are there any missing values? If so, in which columns?\n",
    "- What is the distribution of loan amounts?\n",
    "- Convert the 'applicationDate' and 'originatedDate' columns to datetime format.\n",
    "\n",
    "\n",
    "Loan approval analysis:\n",
    "\n",
    "- What percentage of loans are approved?\n",
    "- Compare the approval rates across different states.\n",
    "- Analyze the relationship between APR and approval status.\n",
    "\n",
    "\n",
    "Funding analysis:\n",
    "\n",
    "- What percentage of approved loans are ultimately funded?\n",
    "- Is there a correlation between loan amount and funding status?\n",
    "- Compare funding rates across different lead types.\n",
    "\n",
    "\n",
    "APR analysis:\n",
    "\n",
    "- Calculate the average, median, and range of APRs.\n",
    "- How does APR vary across different states?\n",
    "- Is there a correlation between APR and loan amount?\n",
    "\n",
    "\n",
    "Payment frequency analysis:\n",
    "\n",
    "- What is the distribution of payment frequencies?\n",
    "- Is there a relationship between payment frequency and loan amount?\n",
    "- Compare APRs across different payment frequencies.\n",
    "\n",
    "\n",
    "Lead type insights:\n",
    "\n",
    "- What is the distribution of lead types?\n",
    "- Compare average loan amounts across different lead types.\n",
    "- Analyze the relationship between lead type and approval rates.\n",
    "\n",
    "\n",
    "First payment status analysis:\n",
    "\n",
    "- What is the distribution of first payment statuses?\n",
    "- Is there a correlation between first payment status and loan amount?\n",
    "- Compare first payment success rates across different lead types.\n",
    "\n",
    "\n",
    "Customer history analysis:\n",
    "\n",
    "- What is the average number of paid-off loans per customer?\n",
    "- Is there a relationship between the number of paid-off loans and approval rates?\n",
    "- Compare loan amounts for new vs. returning customers.\n",
    "\n",
    "\n",
    "Geographical insights:\n",
    "\n",
    "- Which states have the highest number of loans?\n",
    "- Create a heatmap of average loan amounts by state.\n",
    "- Analyze how APRs vary across different regions (e.g., Northeast, South, Midwest, West).\n",
    "\n",
    "\n",
    "Time-based analysis:\n",
    "\n",
    "- Analyze the trend of loan applications over time.\n",
    "- Is there any seasonality in loan applications or approvals?\n",
    "- Compare approval rates and loan amounts for different months or quarters.\n",
    "\n",
    "\n",
    "Loan status analysis:\n",
    "\n",
    "- What is the distribution of loan statuses?\n",
    "- Analyze the relationship between loan status and loan amount.\n",
    "- Compare loan statuses across different lead types.\n",
    "\n",
    "\n",
    "Lead cost analysis:\n",
    "\n",
    "- Calculate the average lead cost.\n",
    "- Is there a correlation between lead cost and approval rates?\n",
    "- Compare lead costs across different lead types.\n",
    "\n",
    "\n",
    "Multivariate analysis:\n",
    "\n",
    "- Create a correlation matrix of numeric variables.\n",
    "- Perform a chi-square test to check for associations between categorical variables.\n",
    "- Use logistic regression to predict loan approval based on available features."
   ]
  },
  {
   "cell_type": "markdown",
   "metadata": {},
   "source": [
    "---"
   ]
  },
  {
   "cell_type": "markdown",
   "metadata": {},
   "source": [
    "Data exploration and preprocessing:\n",
    "\n",
    "- How many unique loans are in the dataset?\n",
    "- Are there any missing values? If so, in which columns?\n",
    "- What is the distribution of loan amounts?\n",
    "- Convert the 'applicationDate' and 'originatedDate' columns to datetime format."
   ]
  },
  {
   "cell_type": "code",
   "execution_count": 56,
   "metadata": {},
   "outputs": [
    {
     "data": {
      "text/plain": [
       "loanId\n",
       "LL-I-07399092    1\n",
       "LL-I-09120818    1\n",
       "LL-I-12495837    1\n",
       "LL-I-09315207    1\n",
       "LL-I-07105524    1\n",
       "                ..\n",
       "LL-I-18326270    1\n",
       "LL-I-14232965    1\n",
       "LL-I-06403601    1\n",
       "LL-I-10713224    1\n",
       "LL-I-04733921    1\n",
       "Name: count, Length: 577426, dtype: int64"
      ]
     },
     "execution_count": 56,
     "metadata": {},
     "output_type": "execute_result"
    }
   ],
   "source": [
    "# No. of unique values\n",
    "\n",
    "df_loans['loanId'].value_counts()"
   ]
  },
  {
   "cell_type": "code",
   "execution_count": 57,
   "metadata": {},
   "outputs": [
    {
     "data": {
      "text/plain": [
       "array(['LL-I-07399092', 'LL-I-06644937', 'LL-I-10707532', ...,\n",
       "       'LL-I-06962710', 'LL-I-01253468', 'LL-I-04733921'], dtype=object)"
      ]
     },
     "execution_count": 57,
     "metadata": {},
     "output_type": "execute_result"
    }
   ],
   "source": [
    "df_loans['loanId'].unique() #deduplicated"
   ]
  },
  {
   "cell_type": "code",
   "execution_count": 58,
   "metadata": {},
   "outputs": [
    {
     "data": {
      "text/plain": [
       "count    575432.000000\n",
       "mean        514.245084\n",
       "std         320.939929\n",
       "min           0.000000\n",
       "25%         350.000000\n",
       "50%         500.000000\n",
       "75%         500.000000\n",
       "max        5000.000000\n",
       "Name: loanAmount, dtype: float64"
      ]
     },
     "execution_count": 58,
     "metadata": {},
     "output_type": "execute_result"
    }
   ],
   "source": [
    "description_df_loans = df_loans['loanAmount'].describe()\n",
    "description_df_loans"
   ]
  },
  {
   "cell_type": "code",
   "execution_count": 59,
   "metadata": {},
   "outputs": [],
   "source": [
    "#upper_bound = (1.5 * std + 3rd quartile)\n",
    "\n",
    "upper_bound = 1.5*description_df_loans['std']+description_df_loans['75%']\n",
    "\n",
    "upper_filter = df_loans['loanAmount'] < upper_bound"
   ]
  },
  {
   "cell_type": "code",
   "execution_count": 60,
   "metadata": {},
   "outputs": [
    {
     "data": {
      "text/plain": [
       "<Axes: ylabel='Frequency'>"
      ]
     },
     "execution_count": 60,
     "metadata": {},
     "output_type": "execute_result"
    },
    {
     "data": {
      "image/png": "[encoded data removed]",
      "text/plain": [
       "<Figure size 640x480 with 1 Axes>"
      ]
     },
     "metadata": {},
     "output_type": "display_data"
    }
   ],
   "source": [
    "df_loans[upper_filter]['loanAmount'].plot(kind='hist', bins=13)"
   ]
  },
  {
   "cell_type": "code",
   "execution_count": 61,
   "metadata": {},
   "outputs": [
    {
     "data": {
      "text/plain": [
       "<Axes: >"
      ]
     },
     "execution_count": 61,
     "metadata": {},
     "output_type": "execute_result"
    },
    {
     "data": {
      "image/png": "[encoded data removed]",
      "text/plain": [
       "<Figure size 640x480 with 1 Axes>"
      ]
     },
     "metadata": {},
     "output_type": "display_data"
    }
   ],
   "source": [
    "df_loans[upper_filter]['loanAmount'].plot(kind='box')"
   ]
  },
  {
   "cell_type": "code",
   "execution_count": 62,
   "metadata": {},
   "outputs": [],
   "source": [
    "df_loans['applicationDate'] = df_loans['applicationDate'].apply(lambda x: x[:x.find('.')] if x.find('.') != -1 else x)"
   ]
  },
  {
   "cell_type": "code",
   "execution_count": 63,
   "metadata": {},
   "outputs": [
    {
     "data": {
      "text/plain": [
       "applicationDate\n",
       "-1    577682\n",
       "Name: count, dtype: int64"
      ]
     },
     "execution_count": 63,
     "metadata": {},
     "output_type": "execute_result"
    }
   ],
   "source": [
    "df_loans['applicationDate'].str.find('.').value_counts()"
   ]
  },
  {
   "cell_type": "code",
   "execution_count": 64,
   "metadata": {},
   "outputs": [
    {
     "data": {
      "text/plain": [
       "0        2016-02-23 17:29:01\n",
       "1        2016-01-19 22:07:36\n",
       "2        2016-08-01 13:51:14\n",
       "3        2015-08-06 23:58:08\n",
       "4        2016-06-05 22:31:34\n",
       "                 ...        \n",
       "577677   2016-11-08 17:32:33\n",
       "577678   2017-01-24 22:20:59\n",
       "577679   2016-02-02 03:05:47\n",
       "577680   2015-05-21 20:19:49\n",
       "577681   2015-11-17 22:04:20\n",
       "Name: applicationDate, Length: 577682, dtype: datetime64[ns]"
      ]
     },
     "execution_count": 64,
     "metadata": {},
     "output_type": "execute_result"
    }
   ],
   "source": [
    "df_loans['applicationDate'] = pd.to_datetime(df_loans['applicationDate'], format='%Y-%m-%dT%H:%M:%S')\n",
    "df_loans['applicationDate']\n",
    "\n",
    "# Just to note,\n",
    "# DATETIME = YYYY-MM-DD HH:MM:SS / YYYY-MM-DDTHH:MM:SS\n",
    "# DATE = YYYY-MM-DD\n",
    "# TIMESTAMP = YYYY-MM-DD HH:MM:SS\n",
    "# EPOCH = Seconds since 1970-01-01 00:00:00 UTC | 15234621362"
   ]
  },
  {
   "cell_type": "markdown",
   "metadata": {},
   "source": [
    "---"
   ]
  },
  {
   "cell_type": "code",
   "execution_count": 65,
   "metadata": {},
   "outputs": [
    {
     "name": "stdout",
     "output_type": "stream",
     "text": [
      "<class 'pandas.core.frame.DataFrame'>\n",
      "RangeIndex: 577682 entries, 0 to 577681\n",
      "Data columns (total 19 columns):\n",
      " #   Column                            Non-Null Count   Dtype         \n",
      "---  ------                            --------------   -----         \n",
      " 0   loanId                            577426 non-null  object        \n",
      " 1   anon_ssn                          577682 non-null  object        \n",
      " 2   payFrequency                      576409 non-null  object        \n",
      " 3   apr                               573760 non-null  float64       \n",
      " 4   applicationDate                   577682 non-null  datetime64[ns]\n",
      " 5   originated                        577682 non-null  bool          \n",
      " 6   originatedDate                    46044 non-null   object        \n",
      " 7   nPaidOff                          577658 non-null  float64       \n",
      " 8   approved                          577682 non-null  bool          \n",
      " 9   isFunded                          577682 non-null  int64         \n",
      " 10  loanStatus                        577291 non-null  object        \n",
      " 11  loanAmount                        575432 non-null  float64       \n",
      " 12  originallyScheduledPaymentAmount  577682 non-null  float64       \n",
      " 13  state                             577550 non-null  object        \n",
      " 14  leadType                          577682 non-null  object        \n",
      " 15  leadCost                          577682 non-null  int64         \n",
      " 16  fpStatus                          51723 non-null   object        \n",
      " 17  clarityFraudId                    357693 non-null  object        \n",
      " 18  hasCF                             577682 non-null  int64         \n",
      "dtypes: bool(2), datetime64[ns](1), float64(4), int64(3), object(9)\n",
      "memory usage: 76.0+ MB\n"
     ]
    }
   ],
   "source": [
    "df_loans.info()"
   ]
  },
  {
   "cell_type": "code",
   "execution_count": 66,
   "metadata": {},
   "outputs": [],
   "source": [
    "import seaborn as sns\n",
    "import matplotlib.pyplot as plt\n",
    "from matplotlib import colormaps"
   ]
  },
  {
   "cell_type": "markdown",
   "metadata": {},
   "source": [
    "Geographical insights:\n",
    "\n",
    "- Which states have the highest number of loans?\n",
    "- Create a heatmap of average loan amounts by state.\n",
    "- Analyze how APRs vary across different regions (e.g., Northeast, South, Midwest, West)."
   ]
  },
  {
   "cell_type": "code",
   "execution_count": 67,
   "metadata": {},
   "outputs": [
    {
     "data": {
      "text/plain": [
       "state\n",
       "OH         90496\n",
       "IL         66710\n",
       "TX         49729\n",
       "MO         49249\n",
       "WI         40349\n",
       "MI         34635\n",
       "TN         32991\n",
       "NC         26962\n",
       "FL         25896\n",
       "IN         25781\n",
       "SC         23925\n",
       "CA         22691\n",
       "NV         11477\n",
       "PA          9723\n",
       "VA          9197\n",
       "NJ          7641\n",
       "UT          6742\n",
       "AL          4327\n",
       "MS          3786\n",
       "CO          3615\n",
       "LA          3431\n",
       "AZ          3355\n",
       "NM          3231\n",
       "KY          2911\n",
       "SD          2212\n",
       "MN          2078\n",
       "GA          1763\n",
       "OK          1758\n",
       "WY          1715\n",
       "CT          1468\n",
       "WA          1384\n",
       "KS          1227\n",
       "IA          1043\n",
       "DE           880\n",
       "ID           722\n",
       "RI           689\n",
       "NE           635\n",
       "HI           621\n",
       "AK           290\n",
       "ND           207\n",
       "NY             3\n",
       "MD             3\n",
       "OH-TEST        1\n",
       "TX-TEST        1\n",
       "Name: count, dtype: int64"
      ]
     },
     "execution_count": 67,
     "metadata": {},
     "output_type": "execute_result"
    }
   ],
   "source": [
    "df_loans['state'].value_counts()"
   ]
  },
  {
   "cell_type": "code",
   "execution_count": 68,
   "metadata": {},
   "outputs": [
    {
     "data": {
      "text/plain": [
       "<Axes: xlabel='state'>"
      ]
     },
     "execution_count": 68,
     "metadata": {},
     "output_type": "execute_result"
    },
    {
     "data": {
      "image/png": "[encoded data removed]",
      "text/plain": [
       "<Figure size 640x480 with 1 Axes>"
      ]
     },
     "metadata": {},
     "output_type": "display_data"
    }
   ],
   "source": [
    "df_loans.groupby('state')['loanAmount'].mean().plot(kind='bar', colormap='inferno')"
   ]
  },
  {
   "cell_type": "code",
   "execution_count": 69,
   "metadata": {},
   "outputs": [
    {
     "data": {
      "text/plain": [
       "count    573760.000000\n",
       "mean        553.080972\n",
       "std         110.046159\n",
       "min           0.000000\n",
       "25%         490.000000\n",
       "50%         590.000000\n",
       "75%         601.000000\n",
       "max         705.590000\n",
       "Name: apr, dtype: float64"
      ]
     },
     "execution_count": 69,
     "metadata": {},
     "output_type": "execute_result"
    }
   ],
   "source": [
    "df_loans['apr'].describe()"
   ]
  },
  {
   "cell_type": "code",
   "execution_count": 72,
   "metadata": {},
   "outputs": [
    {
     "data": {
      "text/plain": [
       "<Axes: ylabel='Frequency'>"
      ]
     },
     "execution_count": 72,
     "metadata": {},
     "output_type": "execute_result"
    },
    {
     "data": {
      "image/png": "[encoded data removed]",
      "text/plain": [
       "<Figure size 640x480 with 1 Axes>"
      ]
     },
     "metadata": {},
     "output_type": "display_data"
    }
   ],
   "source": [
    "df_loans['apr'].plot(kind='hist')"
   ]
  },
  {
   "cell_type": "code",
   "execution_count": null,
   "metadata": {},
   "outputs": [],
   "source": [
    "#list of region dgn state\n",
    "# df['region'] = merge df region on state name."
   ]
  },
  {
   "cell_type": "code",
   "execution_count": 73,
   "metadata": {},
   "outputs": [
    {
     "data": {
      "text/plain": [
       "state\n",
       "AK         634.241379\n",
       "AL         632.469921\n",
       "AZ         632.174550\n",
       "CA         519.617511\n",
       "CO         180.158356\n",
       "CT         619.508190\n",
       "DE         632.568182\n",
       "FL         617.414333\n",
       "GA         184.478107\n",
       "HI         631.951613\n",
       "IA         630.264159\n",
       "ID         630.416075\n",
       "IL         359.420781\n",
       "IN         602.590835\n",
       "KS         631.774062\n",
       "KY         631.361286\n",
       "LA         633.886274\n",
       "MD          29.990000\n",
       "MI         603.118884\n",
       "MN         629.255771\n",
       "MO         520.703219\n",
       "MS         631.644198\n",
       "NC         599.197346\n",
       "ND         634.106280\n",
       "NE         631.606299\n",
       "NJ         632.368870\n",
       "NM         639.355638\n",
       "NV         568.394446\n",
       "NY          29.990000\n",
       "OH         597.744585\n",
       "OH-TEST    390.000000\n",
       "OK         632.394767\n",
       "PA         632.652520\n",
       "RI         627.908163\n",
       "SC         580.902341\n",
       "SD         575.248848\n",
       "TN         602.825395\n",
       "TX         643.668419\n",
       "TX-TEST    390.000000\n",
       "UT         582.087524\n",
       "VA         360.332896\n",
       "WA         625.914671\n",
       "WI         498.723457\n",
       "WY         577.761696\n",
       "Name: apr, dtype: float64"
      ]
     },
     "execution_count": 73,
     "metadata": {},
     "output_type": "execute_result"
    }
   ],
   "source": [
    "df_loans.groupby('state')['apr'].mean()"
   ]
  },
  {
   "cell_type": "markdown",
   "metadata": {},
   "source": [
    "First payment status analysis:\n",
    "\n",
    "- What is the distribution of first payment statuses?\n",
    "- Is there an association between first payment status and loan amount?\n",
    "- Compare first payment success rates across different loan statuses."
   ]
  },
  {
   "cell_type": "code",
   "execution_count": 121,
   "metadata": {},
   "outputs": [
    {
     "data": {
      "text/plain": [
       "fpStatus\n",
       "Checked        32978\n",
       "No Payments    11427\n",
       "Rejected        5522\n",
       "No Schedule     1323\n",
       "Cancelled        249\n",
       "Skipped          218\n",
       "Pending            5\n",
       "Returned           1\n",
       "Name: count, dtype: int64"
      ]
     },
     "execution_count": 121,
     "metadata": {},
     "output_type": "execute_result"
    }
   ],
   "source": [
    "df_loans['fpStatus'].value_counts()"
   ]
  },
  {
   "cell_type": "code",
   "execution_count": 122,
   "metadata": {},
   "outputs": [
    {
     "data": {
      "text/plain": [
       "63.75886936179263"
      ]
     },
     "execution_count": 122,
     "metadata": {},
     "output_type": "execute_result"
    }
   ],
   "source": [
    "(df_loans['fpStatus'].value_counts()['Checked'] /df_loans['fpStatus'].count())*100"
   ]
  },
  {
   "cell_type": "code",
   "execution_count": 123,
   "metadata": {},
   "outputs": [
    {
     "data": {
      "text/plain": [
       "loanStatus\n",
       "Withdrawn Application          450984\n",
       "Rejected                        85070\n",
       "Paid Off Loan                   11427\n",
       "External Collection             11334\n",
       "New Loan                         8112\n",
       "Internal Collection              5567\n",
       "Returned Item                    1182\n",
       "CSR Voided New Loan              1026\n",
       "Settlement Paid Off               708\n",
       "Credit Return Void                704\n",
       "Customer Voided New Loan          504\n",
       "Settled Bankruptcy                326\n",
       "Pending Paid Off                  169\n",
       "Charged Off Paid Off              160\n",
       "Pending Application Fee             5\n",
       "Pending Rescind                     4\n",
       "Pending Application                 4\n",
       "Voided New Loan                     2\n",
       "Charged Off                         1\n",
       "Customver Voided New Loan           1\n",
       "Settlement Pending Paid Off         1\n",
       "Name: count, dtype: int64"
      ]
     },
     "execution_count": 123,
     "metadata": {},
     "output_type": "execute_result"
    }
   ],
   "source": [
    "df_loans['loanStatus'].value_counts()"
   ]
  },
  {
   "cell_type": "code",
   "execution_count": 137,
   "metadata": {},
   "outputs": [
    {
     "data": {
      "text/plain": [
       "loanStatus                   fpStatus   \n",
       "CSR Voided New Loan          No Payments    100.000000\n",
       "Charged Off                  Rejected       100.000000\n",
       "Charged Off Paid Off         Checked         64.150943\n",
       "                             Rejected        32.075472\n",
       "                             Cancelled        2.515723\n",
       "                             Skipped          1.257862\n",
       "External Collection          Checked         71.101889\n",
       "                             Rejected        28.129966\n",
       "                             Skipped          0.573901\n",
       "                             Cancelled        0.185414\n",
       "                             Returned         0.008829\n",
       "Internal Collection          Checked         69.554277\n",
       "                             Rejected        29.601006\n",
       "                             Skipped          0.647017\n",
       "                             Cancelled        0.197699\n",
       "New Loan                     Checked         98.656146\n",
       "                             Rejected         0.727407\n",
       "                             Skipped          0.530144\n",
       "                             Pending          0.061645\n",
       "                             Cancelled        0.024658\n",
       "Paid Off Loan                Checked         95.930690\n",
       "                             Rejected         1.916514\n",
       "                             Cancelled        1.715236\n",
       "                             Skipped          0.437560\n",
       "Pending Paid Off             Checked         94.082840\n",
       "                             Rejected         2.366864\n",
       "                             Cancelled        1.775148\n",
       "                             Skipped          1.775148\n",
       "Rejected                     No Payments     93.109870\n",
       "                             No Schedule      6.890130\n",
       "Returned Item                Checked         80.456853\n",
       "                             Rejected        19.120135\n",
       "                             Skipped          0.423012\n",
       "Settled Bankruptcy           Checked         82.515337\n",
       "                             Rejected        14.110429\n",
       "                             Skipped          1.840491\n",
       "                             Cancelled        1.226994\n",
       "                             No Payments      0.306748\n",
       "Settlement Paid Off          Checked         86.016949\n",
       "                             Rejected        11.723164\n",
       "                             Cancelled        1.129944\n",
       "                             Skipped          1.129944\n",
       "Settlement Pending Paid Off  Checked        100.000000\n",
       "Withdrawn Application        No Payments     90.581347\n",
       "                             No Schedule      9.418653\n",
       "dtype: float64"
      ]
     },
     "execution_count": 137,
     "metadata": {},
     "output_type": "execute_result"
    }
   ],
   "source": [
    "(df_loans.groupby(['loanStatus'])[['fpStatus']].value_counts()/df_loans.groupby('loanStatus')['fpStatus'].count())*100"
   ]
  },
  {
   "cell_type": "markdown",
   "metadata": {},
   "source": [
    "---"
   ]
  },
  {
   "cell_type": "code",
   "execution_count": 118,
   "metadata": {},
   "outputs": [
    {
     "data": {
      "text/plain": [
       "loanStatus\n",
       "Withdrawn Application          450984\n",
       "Rejected                        85070\n",
       "Paid Off Loan                   11427\n",
       "External Collection             11334\n",
       "New Loan                         8112\n",
       "Internal Collection              5567\n",
       "Returned Item                    1182\n",
       "CSR Voided New Loan              1026\n",
       "Settlement Paid Off               708\n",
       "Credit Return Void                704\n",
       "Customer Voided New Loan          504\n",
       "Settled Bankruptcy                326\n",
       "Pending Paid Off                  169\n",
       "Charged Off Paid Off              160\n",
       "Pending Application Fee             5\n",
       "Pending Rescind                     4\n",
       "Pending Application                 4\n",
       "Voided New Loan                     2\n",
       "Charged Off                         1\n",
       "Customver Voided New Loan           1\n",
       "Settlement Pending Paid Off         1\n",
       "Name: count, dtype: int64"
      ]
     },
     "execution_count": 118,
     "metadata": {},
     "output_type": "execute_result"
    }
   ],
   "source": [
    "df_loans['loanStatus'].value_counts()"
   ]
  },
  {
   "cell_type": "code",
   "execution_count": 74,
   "metadata": {},
   "outputs": [
    {
     "name": "stdout",
     "output_type": "stream",
     "text": [
      "<class 'pandas.core.frame.DataFrame'>\n",
      "RangeIndex: 577682 entries, 0 to 577681\n",
      "Data columns (total 19 columns):\n",
      " #   Column                            Non-Null Count   Dtype         \n",
      "---  ------                            --------------   -----         \n",
      " 0   loanId                            577426 non-null  object        \n",
      " 1   anon_ssn                          577682 non-null  object        \n",
      " 2   payFrequency                      576409 non-null  object        \n",
      " 3   apr                               573760 non-null  float64       \n",
      " 4   applicationDate                   577682 non-null  datetime64[ns]\n",
      " 5   originated                        577682 non-null  bool          \n",
      " 6   originatedDate                    46044 non-null   object        \n",
      " 7   nPaidOff                          577658 non-null  float64       \n",
      " 8   approved                          577682 non-null  bool          \n",
      " 9   isFunded                          577682 non-null  int64         \n",
      " 10  loanStatus                        577291 non-null  object        \n",
      " 11  loanAmount                        575432 non-null  float64       \n",
      " 12  originallyScheduledPaymentAmount  577682 non-null  float64       \n",
      " 13  state                             577550 non-null  object        \n",
      " 14  leadType                          577682 non-null  object        \n",
      " 15  leadCost                          577682 non-null  int64         \n",
      " 16  fpStatus                          51723 non-null   object        \n",
      " 17  clarityFraudId                    357693 non-null  object        \n",
      " 18  hasCF                             577682 non-null  int64         \n",
      "dtypes: bool(2), datetime64[ns](1), float64(4), int64(3), object(9)\n",
      "memory usage: 76.0+ MB\n"
     ]
    }
   ],
   "source": [
    "df_loans.info()"
   ]
  },
  {
   "cell_type": "code",
   "execution_count": 80,
   "metadata": {},
   "outputs": [
    {
     "data": {
      "text/plain": [
       "fpStatus\n",
       "Checked        63.758869\n",
       "No Payments    22.092686\n",
       "Rejected       10.676102\n",
       "No Schedule     2.557856\n",
       "Cancelled       0.481411\n",
       "Skipped         0.421476\n",
       "Pending         0.009667\n",
       "Returned        0.001933\n",
       "Name: count, dtype: float64"
      ]
     },
     "execution_count": 80,
     "metadata": {},
     "output_type": "execute_result"
    }
   ],
   "source": [
    "((df_loans['fpStatus'].value_counts()/df_loans['fpStatus'].count())*100)"
   ]
  },
  {
   "cell_type": "code",
   "execution_count": 79,
   "metadata": {},
   "outputs": [
    {
     "data": {
      "text/plain": [
       "<Axes: ylabel='count'>"
      ]
     },
     "execution_count": 79,
     "metadata": {},
     "output_type": "execute_result"
    },
    {
     "data": {
      "image/png": "[encoded data removed]",
      "text/plain": [
       "<Figure size 640x480 with 1 Axes>"
      ]
     },
     "metadata": {},
     "output_type": "display_data"
    }
   ],
   "source": [
    "((df_loans['fpStatus'].value_counts()/df_loans['fpStatus'].count())*100).plot(kind=\"pie\")"
   ]
  },
  {
   "cell_type": "code",
   "execution_count": 96,
   "metadata": {},
   "outputs": [
    {
     "data": {
      "text/plain": [
       "500.0"
      ]
     },
     "execution_count": 96,
     "metadata": {},
     "output_type": "execute_result"
    }
   ],
   "source": [
    "df_loans['loanAmount'].quantile(0.80)"
   ]
  },
  {
   "cell_type": "code",
   "execution_count": 84,
   "metadata": {},
   "outputs": [
    {
     "data": {
      "text/plain": [
       "<Axes: ylabel='Frequency'>"
      ]
     },
     "execution_count": 84,
     "metadata": {},
     "output_type": "execute_result"
    },
    {
     "data": {
      "image/png": "[encoded data removed]",
      "text/plain": [
       "<Figure size 640x480 with 1 Axes>"
      ]
     },
     "metadata": {},
     "output_type": "display_data"
    }
   ],
   "source": [
    "df_loans['loanAmount'].plot(kind='hist', bins=30)"
   ]
  },
  {
   "cell_type": "code",
   "execution_count": 138,
   "metadata": {},
   "outputs": [
    {
     "data": {
      "text/html": [
       "<div>\n",
       "<style scoped>\n",
       "    .dataframe tbody tr th:only-of-type {\n",
       "        vertical-align: middle;\n",
       "    }\n",
       "\n",
       "    .dataframe tbody tr th {\n",
       "        vertical-align: top;\n",
       "    }\n",
       "\n",
       "    .dataframe thead th {\n",
       "        text-align: right;\n",
       "    }\n",
       "</style>\n",
       "<table border=\"1\" class=\"dataframe\">\n",
       "  <thead>\n",
       "    <tr style=\"text-align: right;\">\n",
       "      <th></th>\n",
       "      <th>count</th>\n",
       "      <th>mean</th>\n",
       "      <th>std</th>\n",
       "      <th>min</th>\n",
       "      <th>25%</th>\n",
       "      <th>50%</th>\n",
       "      <th>75%</th>\n",
       "      <th>max</th>\n",
       "    </tr>\n",
       "    <tr>\n",
       "      <th>fpStatus</th>\n",
       "      <th></th>\n",
       "      <th></th>\n",
       "      <th></th>\n",
       "      <th></th>\n",
       "      <th></th>\n",
       "      <th></th>\n",
       "      <th></th>\n",
       "      <th></th>\n",
       "    </tr>\n",
       "  </thead>\n",
       "  <tbody>\n",
       "    <tr>\n",
       "      <th>Cancelled</th>\n",
       "      <td>249.0</td>\n",
       "      <td>646.489960</td>\n",
       "      <td>374.114396</td>\n",
       "      <td>200.0</td>\n",
       "      <td>400.0</td>\n",
       "      <td>500.0</td>\n",
       "      <td>800.0</td>\n",
       "      <td>2600.0</td>\n",
       "    </tr>\n",
       "    <tr>\n",
       "      <th>Checked</th>\n",
       "      <td>32978.0</td>\n",
       "      <td>642.890078</td>\n",
       "      <td>483.302125</td>\n",
       "      <td>100.0</td>\n",
       "      <td>375.0</td>\n",
       "      <td>500.0</td>\n",
       "      <td>700.0</td>\n",
       "      <td>4687.0</td>\n",
       "    </tr>\n",
       "    <tr>\n",
       "      <th>No Payments</th>\n",
       "      <td>10500.0</td>\n",
       "      <td>555.480381</td>\n",
       "      <td>468.794154</td>\n",
       "      <td>0.0</td>\n",
       "      <td>350.0</td>\n",
       "      <td>495.0</td>\n",
       "      <td>500.0</td>\n",
       "      <td>5000.0</td>\n",
       "    </tr>\n",
       "    <tr>\n",
       "      <th>No Schedule</th>\n",
       "      <td>0.0</td>\n",
       "      <td>NaN</td>\n",
       "      <td>NaN</td>\n",
       "      <td>NaN</td>\n",
       "      <td>NaN</td>\n",
       "      <td>NaN</td>\n",
       "      <td>NaN</td>\n",
       "      <td>NaN</td>\n",
       "    </tr>\n",
       "    <tr>\n",
       "      <th>Pending</th>\n",
       "      <td>5.0</td>\n",
       "      <td>490.000000</td>\n",
       "      <td>151.657509</td>\n",
       "      <td>300.0</td>\n",
       "      <td>400.0</td>\n",
       "      <td>500.0</td>\n",
       "      <td>550.0</td>\n",
       "      <td>700.0</td>\n",
       "    </tr>\n",
       "    <tr>\n",
       "      <th>Rejected</th>\n",
       "      <td>5522.0</td>\n",
       "      <td>620.301159</td>\n",
       "      <td>456.842473</td>\n",
       "      <td>100.0</td>\n",
       "      <td>350.0</td>\n",
       "      <td>500.0</td>\n",
       "      <td>700.0</td>\n",
       "      <td>4000.0</td>\n",
       "    </tr>\n",
       "    <tr>\n",
       "      <th>Returned</th>\n",
       "      <td>1.0</td>\n",
       "      <td>400.000000</td>\n",
       "      <td>NaN</td>\n",
       "      <td>400.0</td>\n",
       "      <td>400.0</td>\n",
       "      <td>400.0</td>\n",
       "      <td>400.0</td>\n",
       "      <td>400.0</td>\n",
       "    </tr>\n",
       "    <tr>\n",
       "      <th>Skipped</th>\n",
       "      <td>218.0</td>\n",
       "      <td>660.114679</td>\n",
       "      <td>409.718371</td>\n",
       "      <td>250.0</td>\n",
       "      <td>400.0</td>\n",
       "      <td>600.0</td>\n",
       "      <td>800.0</td>\n",
       "      <td>3000.0</td>\n",
       "    </tr>\n",
       "  </tbody>\n",
       "</table>\n",
       "</div>"
      ],
      "text/plain": [
       "               count        mean         std    min    25%    50%    75%  \\\n",
       "fpStatus                                                                   \n",
       "Cancelled      249.0  646.489960  374.114396  200.0  400.0  500.0  800.0   \n",
       "Checked      32978.0  642.890078  483.302125  100.0  375.0  500.0  700.0   \n",
       "No Payments  10500.0  555.480381  468.794154    0.0  350.0  495.0  500.0   \n",
       "No Schedule      0.0         NaN         NaN    NaN    NaN    NaN    NaN   \n",
       "Pending          5.0  490.000000  151.657509  300.0  400.0  500.0  550.0   \n",
       "Rejected      5522.0  620.301159  456.842473  100.0  350.0  500.0  700.0   \n",
       "Returned         1.0  400.000000         NaN  400.0  400.0  400.0  400.0   \n",
       "Skipped        218.0  660.114679  409.718371  250.0  400.0  600.0  800.0   \n",
       "\n",
       "                max  \n",
       "fpStatus             \n",
       "Cancelled    2600.0  \n",
       "Checked      4687.0  \n",
       "No Payments  5000.0  \n",
       "No Schedule     NaN  \n",
       "Pending       700.0  \n",
       "Rejected     4000.0  \n",
       "Returned      400.0  \n",
       "Skipped      3000.0  "
      ]
     },
     "execution_count": 138,
     "metadata": {},
     "output_type": "execute_result"
    }
   ],
   "source": [
    "df_loans.groupby('fpStatus')['loanAmount'].describe()"
   ]
  },
  {
   "cell_type": "code",
   "execution_count": 100,
   "metadata": {},
   "outputs": [
    {
     "data": {
      "text/plain": [
       "fpStatus\n",
       "Checked        74.653694\n",
       "No Payments    12.428540\n",
       "Rejected       11.614996\n",
       "Cancelled       0.659631\n",
       "Skipped         0.637643\n",
       "Pending         0.005497\n",
       "Name: count, dtype: float64"
      ]
     },
     "execution_count": 100,
     "metadata": {},
     "output_type": "execute_result"
    }
   ],
   "source": [
    "(#consider as big\n",
    "df_loans[df_loans['loanAmount'] >= df_loans['loanAmount'].quantile(0.80)]['fpStatus'].value_counts()/df_loans[df_loans['loanAmount'] >= df_loans['loanAmount'].quantile(0.80)]['fpStatus'].count())*100"
   ]
  },
  {
   "cell_type": "code",
   "execution_count": 101,
   "metadata": {},
   "outputs": [
    {
     "data": {
      "text/plain": [
       "fpStatus\n",
       "Checked        62.008887\n",
       "No Payments    26.338672\n",
       "Rejected       10.897989\n",
       "Cancelled       0.412391\n",
       "Skipped         0.326077\n",
       "Pending         0.012787\n",
       "Returned        0.003197\n",
       "Name: count, dtype: float64"
      ]
     },
     "execution_count": 101,
     "metadata": {},
     "output_type": "execute_result"
    }
   ],
   "source": [
    "(df_loans[df_loans['loanAmount'] < df_loans['loanAmount'].quantile(0.80)]['fpStatus'].value_counts()/df_loans[df_loans['loanAmount'] < df_loans['loanAmount'].quantile(0.80)]['fpStatus'].count()\n",
    ")*100"
   ]
  },
  {
   "cell_type": "code",
   "execution_count": 104,
   "metadata": {},
   "outputs": [
    {
     "data": {
      "text/plain": [
       "0         False\n",
       "1          True\n",
       "2         False\n",
       "3         False\n",
       "4         False\n",
       "          ...  \n",
       "577677    False\n",
       "577678    False\n",
       "577679    False\n",
       "577680    False\n",
       "577681    False\n",
       "Name: fpStatus, Length: 577682, dtype: bool"
      ]
     },
     "execution_count": 104,
     "metadata": {},
     "output_type": "execute_result"
    }
   ],
   "source": [
    "df_loans['fpStatus'] == 'Checked'"
   ]
  },
  {
   "cell_type": "code",
   "execution_count": 106,
   "metadata": {},
   "outputs": [
    {
     "data": {
      "text/plain": [
       "loanStatus\n",
       "Withdrawn Application          450984\n",
       "Rejected                        85070\n",
       "Paid Off Loan                   11427\n",
       "External Collection             11334\n",
       "New Loan                         8112\n",
       "Internal Collection              5567\n",
       "Returned Item                    1182\n",
       "CSR Voided New Loan              1026\n",
       "Settlement Paid Off               708\n",
       "Credit Return Void                704\n",
       "Customer Voided New Loan          504\n",
       "Settled Bankruptcy                326\n",
       "Pending Paid Off                  169\n",
       "Charged Off Paid Off              160\n",
       "Pending Application Fee             5\n",
       "Pending Rescind                     4\n",
       "Pending Application                 4\n",
       "Voided New Loan                     2\n",
       "Charged Off                         1\n",
       "Customver Voided New Loan           1\n",
       "Settlement Pending Paid Off         1\n",
       "Name: count, dtype: int64"
      ]
     },
     "execution_count": 106,
     "metadata": {},
     "output_type": "execute_result"
    }
   ],
   "source": [
    "df_loans['loanStatus'].value_counts()"
   ]
  },
  {
   "cell_type": "code",
   "execution_count": 126,
   "metadata": {},
   "outputs": [
    {
     "data": {
      "text/plain": [
       "loanStatus\n",
       "Paid Off Loan                  10962\n",
       "External Collection             8053\n",
       "New Loan                        8002\n",
       "Internal Collection             3870\n",
       "Returned Item                    951\n",
       "Settlement Paid Off              609\n",
       "Settled Bankruptcy               269\n",
       "Pending Paid Off                 159\n",
       "Charged Off Paid Off             102\n",
       "Settlement Pending Paid Off        1\n",
       "Name: count, dtype: int64"
      ]
     },
     "execution_count": 126,
     "metadata": {},
     "output_type": "execute_result"
    }
   ],
   "source": [
    "df_loans[df_loans['fpStatus'] == 'Checked']['loanStatus'].value_counts()"
   ]
  },
  {
   "cell_type": "code",
   "execution_count": 124,
   "metadata": {},
   "outputs": [
    {
     "data": {
      "text/plain": [
       "loanStatus\n",
       "Paid Off Loan                  33.240342\n",
       "External Collection            24.419310\n",
       "New Loan                       24.264661\n",
       "Internal Collection            11.735096\n",
       "Returned Item                   2.883741\n",
       "Settlement Paid Off             1.846686\n",
       "Settled Bankruptcy              0.815695\n",
       "Pending Paid Off                0.482140\n",
       "Charged Off Paid Off            0.309297\n",
       "Settlement Pending Paid Off     0.003032\n",
       "Name: count, dtype: float64"
      ]
     },
     "execution_count": 124,
     "metadata": {},
     "output_type": "execute_result"
    }
   ],
   "source": [
    "(df_loans[df_loans['fpStatus'] == 'Checked']['loanStatus'].value_counts()/df_loans[df_loans['fpStatus'] == 'Checked']['loanStatus'].count())*100"
   ]
  },
  {
   "cell_type": "code",
   "execution_count": 114,
   "metadata": {},
   "outputs": [
    {
     "name": "stdout",
     "output_type": "stream",
     "text": [
      "Checked\n",
      "loanStatus\n",
      "Paid Off Loan                  10962\n",
      "External Collection             8053\n",
      "New Loan                        8002\n",
      "Internal Collection             3870\n",
      "Returned Item                    951\n",
      "Settlement Paid Off              609\n",
      "Settled Bankruptcy               269\n",
      "Pending Paid Off                 159\n",
      "Charged Off Paid Off             102\n",
      "Settlement Pending Paid Off        1\n",
      "Name: count, dtype: int64\n",
      "---------------\n",
      "No Payments\n",
      "loanStatus\n",
      "Withdrawn Application    10829\n",
      "Rejected                   500\n",
      "CSR Voided New Loan          1\n",
      "Settled Bankruptcy           1\n",
      "Name: count, dtype: int64\n",
      "---------------\n",
      "Rejected\n",
      "loanStatus\n",
      "External Collection     3186\n",
      "Internal Collection     1647\n",
      "Returned Item            226\n",
      "Paid Off Loan            219\n",
      "Settlement Paid Off       83\n",
      "New Loan                  59\n",
      "Charged Off Paid Off      51\n",
      "Settled Bankruptcy        46\n",
      "Pending Paid Off           4\n",
      "Charged Off                1\n",
      "Name: count, dtype: int64\n",
      "---------------\n",
      "No Schedule\n",
      "loanStatus\n",
      "Withdrawn Application    1126\n",
      "Rejected                   37\n",
      "Name: count, dtype: int64\n",
      "---------------\n",
      "Cancelled\n",
      "loanStatus\n",
      "Paid Off Loan           196\n",
      "External Collection      21\n",
      "Internal Collection      11\n",
      "Settlement Paid Off       8\n",
      "Charged Off Paid Off      4\n",
      "Settled Bankruptcy        4\n",
      "Pending Paid Off          3\n",
      "New Loan                  2\n",
      "Name: count, dtype: int64\n",
      "---------------\n",
      "Skipped\n",
      "loanStatus\n",
      "External Collection     65\n",
      "Paid Off Loan           50\n",
      "New Loan                43\n",
      "Internal Collection     36\n",
      "Settlement Paid Off      8\n",
      "Settled Bankruptcy       6\n",
      "Returned Item            5\n",
      "Pending Paid Off         3\n",
      "Charged Off Paid Off     2\n",
      "Name: count, dtype: int64\n",
      "---------------\n",
      "Pending\n",
      "loanStatus\n",
      "New Loan    5\n",
      "Name: count, dtype: int64\n",
      "---------------\n",
      "Returned\n",
      "loanStatus\n",
      "External Collection    1\n",
      "Name: count, dtype: int64\n",
      "---------------\n"
     ]
    }
   ],
   "source": [
    "for i in df_loans['fpStatus'].value_counts().items():\n",
    "    print(i[0])\n",
    "    print(df_loans[df_loans['fpStatus'] == i[0]]['loanStatus'].value_counts())\n",
    "    print(\"---------------\")"
   ]
  }
 ],
 "metadata": {
  "kernelspec": {
   "display_name": "tutor-an",
   "language": "python",
   "name": "python3"
  },
  "language_info": {
   "codemirror_mode": {
    "name": "ipython",
    "version": 3
   },
   "file_extension": ".py",
   "mimetype": "text/x-python",
   "name": "python",
   "nbconvert_exporter": "python",
   "pygments_lexer": "ipython3",
   "version": "3.11.9"
  }
 },
 "nbformat": 4,
 "nbformat_minor": 2
}
