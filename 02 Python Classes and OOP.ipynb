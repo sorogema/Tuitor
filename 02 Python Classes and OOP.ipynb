{
 "cells": [
  {
   "cell_type": "code",
   "execution_count": null,
   "metadata": {},
   "outputs": [],
   "source": [
    "# Activities"
   ]
  },
  {
   "cell_type": "markdown",
   "metadata": {},
   "source": [
    "# 02 Python Classes and OOP"
   ]
  },
  {
   "cell_type": "markdown",
   "metadata": {},
   "source": [
    "\n",
    "## 1. Classes"
   ]
  },
  {
   "cell_type": "code",
   "execution_count": 1,
   "metadata": {},
   "outputs": [],
   "source": [
    "class Car:\n",
    "    def __init__(self, brand, model):\n",
    "        self.brand = brand\n",
    "        self.model = model\n",
    "    \n",
    "    def info(self):\n",
    "        return f\"{self.brand} {self.model}\""
   ]
  },
  {
   "cell_type": "code",
   "execution_count": 2,
   "metadata": {},
   "outputs": [
    {
     "data": {
      "text/plain": [
       "'Toyota Corolla'"
      ]
     },
     "execution_count": 2,
     "metadata": {},
     "output_type": "execute_result"
    }
   ],
   "source": [
    "my_car = Car(\"Toyota\", \"Corolla\")\n",
    "my_car.info()"
   ]
  },
  {
   "cell_type": "markdown",
   "metadata": {},
   "source": [
    "### 1.1 Inheritance"
   ]
  },
  {
   "cell_type": "code",
   "execution_count": null,
   "metadata": {},
   "outputs": [],
   "source": [
    "class ElectricCar(Car):\n",
    "    def __init__(self, brand, model, battery_capacity):\n",
    "        super().__init__(brand, model)\n",
    "        self.battery_capacity = battery_capacity\n",
    "    \n",
    "    def info(self):\n",
    "        return f\"{super().info()} - Battery: {self.battery_capacity} kWh\""
   ]
  },
  {
   "cell_type": "code",
   "execution_count": null,
   "metadata": {},
   "outputs": [],
   "source": [
    "tesla = ElectricCar(\"Tesla\", \"Model 3\", 75)\n",
    "print(tesla.info())"
   ]
  },
  {
   "cell_type": "markdown",
   "metadata": {},
   "source": [
    "### 1.2 Naming conventions and decorators"
   ]
  },
  {
   "cell_type": "code",
   "execution_count": null,
   "metadata": {},
   "outputs": [],
   "source": [
    "class BankAccount:\n",
    "    def __init__(self, balance):\n",
    "        self._balance = balance  # Protected attribute\n",
    "    \n",
    "    def deposit(self, amount):\n",
    "        if amount > 0:\n",
    "            self._balance += amount\n",
    "        else:\n",
    "            raise ValueError(\"Deposit amount must be positive\")\n",
    "        \n",
    "    def get_balance(self):\n",
    "        return self._balance\n",
    "    \n",
    "    @property\n",
    "    def balance(self):\n",
    "        return self._balance\n",
    "\n",
    "account = BankAccount(1000)\n",
    "print(account.get_balance())\n",
    "print(account.balance)\n",
    "account.deposit(500)\n",
    "print(account.get_balance())\n",
    "print(account.balance)"
   ]
  },
  {
   "cell_type": "markdown",
   "metadata": {},
   "source": [
    "## 2. Class examples"
   ]
  },
  {
   "cell_type": "code",
   "execution_count": null,
   "metadata": {},
   "outputs": [],
   "source": [
    "class Character:\n",
    "    def __init__(self, name, health, damage):\n",
    "        self.name = name\n",
    "        self.health = health\n",
    "        self.damage = damage\n",
    "\n",
    "    def attack(self, target):\n",
    "        target.health -= self.damage\n",
    "        print(f\"{self.name} attacks {target.name} for {self.damage} damage!\")\n",
    "\n",
    "class Warrior(Character):\n",
    "    def __init__(self, name):\n",
    "        super().__init__(name, health=100, damage=10)\n",
    "    \n",
    "    def shield_block(self):\n",
    "        print(f\"{self.name} blocks the next attack!\")\n",
    "\n",
    "class Mage(Character):\n",
    "    def __init__(self, name):\n",
    "        super().__init__(name, health=80, damage=15)\n",
    "    \n",
    "    def cast_spell(self, target):\n",
    "        spell_damage = self.damage * 1.5\n",
    "        target.health -= spell_damage\n",
    "        print(f\"{self.name} casts a spell on {target.name} for {spell_damage} damage!\")"
   ]
  },
  {
   "cell_type": "code",
   "execution_count": null,
   "metadata": {},
   "outputs": [],
   "source": [
    "warrior = Warrior(\"Conan\")\n",
    "mage = Mage(\"Gandalf\")\n",
    "\n",
    "warrior.attack(mage)\n",
    "mage.cast_spell(warrior)"
   ]
  },
  {
   "cell_type": "markdown",
   "metadata": {},
   "source": [
    "# Activity"
   ]
  },
  {
   "cell_type": "markdown",
   "metadata": {},
   "source": [
    "## 1. Refactoring\n",
    "\n",
    "Refactor the following codes to make it OOP style."
   ]
  },
  {
   "cell_type": "code",
   "execution_count": 3,
   "metadata": {},
   "outputs": [
    {
     "name": "stdout",
     "output_type": "stream",
     "text": [
      "2.5999999999999996\n"
     ]
    }
   ],
   "source": [
    "# Refactor the following code to make it object-oriented.\n",
    "\n",
    "def calculate_total_price(items, quantities, prices):\n",
    "    total = 0\n",
    "    for item, quantity, price in zip(items, quantities, prices):\n",
    "        total += quantity * price\n",
    "    return total\n",
    "\n",
    "items = [\"apple\", \"banana\", \"orange\"]\n",
    "quantities = [2, 3, 1]\n",
    "prices = [0.5, 0.3, 0.7]\n",
    "\n",
    "print(calculate_total_price(items, quantities, prices))"
   ]
  },
  {
   "cell_type": "code",
   "execution_count": 4,
   "metadata": {},
   "outputs": [],
   "source": [
    "class Product:\n",
    "    def __init__(self, name, quantities, price):\n",
    "        self._name = name\n",
    "        self._quantities = quantities\n",
    "        self._price = price\n",
    "    \n",
    "    @property\n",
    "    def name(self):\n",
    "        return self._name\n",
    "\n",
    "    @property\n",
    "    def quantities(self):\n",
    "        return self._quantities\n",
    "    \n",
    "    @property\n",
    "    def price(self):\n",
    "        return self._price\n",
    "    \n",
    "    def total_price(self):\n",
    "        return self._quantities * self._price\n",
    "    "
   ]
  },
  {
   "cell_type": "code",
   "execution_count": 8,
   "metadata": {},
   "outputs": [],
   "source": [
    "prod1 = Product(\"apple\", 2, 0.5)\n",
    "prod2 = Product(\"banana\", 3, 0.3)\n",
    "prod3 = Product(\"orange\", 1, 0.7)"
   ]
  },
  {
   "cell_type": "code",
   "execution_count": 9,
   "metadata": {},
   "outputs": [
    {
     "data": {
      "text/plain": [
       "2.5999999999999996"
      ]
     },
     "execution_count": 9,
     "metadata": {},
     "output_type": "execute_result"
    }
   ],
   "source": [
    "total_price = prod1.total_price() + prod2.total_price() + prod3.total_price()\n",
    "total_price"
   ]
  },
  {
   "cell_type": "code",
   "execution_count": null,
   "metadata": {},
   "outputs": [],
   "source": [
    "def create_employee(name, position, salary):\n",
    "    return {\"name\": name, \"position\": position, \"salary\": salary}\n",
    "\n",
    "def give_raise(employee, amount):\n",
    "    employee[\"salary\"] += amount\n",
    "\n",
    "def print_employee_info(employee):\n",
    "    print(f\"Name: {employee['name']}, Position: {employee['position']}, Salary: ${employee['salary']}\")\n",
    "\n",
    "# Usage\n",
    "emp1 = create_employee(\"Alice\", \"Developer\", 75000)\n",
    "give_raise(emp1, 5000)\n",
    "print_employee_info(emp1)"
   ]
  },
  {
   "cell_type": "code",
   "execution_count": 10,
   "metadata": {},
   "outputs": [],
   "source": [
    "class Employee:\n",
    "    def __init__(self, name, position, salary):\n",
    "        self._name = name\n",
    "        self._position = position\n",
    "        self._salary = salary\n",
    "    \n",
    "    def give_raise(self, amount):\n",
    "        self._salary += amount\n",
    "\n",
    "    def info(self):\n",
    "        return f\"Name: {self._name}, Position: {self._position}, Salary: {self._salary}\"\n",
    "        "
   ]
  },
  {
   "cell_type": "code",
   "execution_count": 15,
   "metadata": {},
   "outputs": [
    {
     "data": {
      "text/plain": [
       "'Name: Ahmad, Position: Boss, Salary: 150'"
      ]
     },
     "execution_count": 15,
     "metadata": {},
     "output_type": "execute_result"
    }
   ],
   "source": [
    "ahmad = Employee(\"Ahmad\", \"Boss\", 100)\n",
    "ahmad.give_raise(50)\n",
    "ahmad.info()\n"
   ]
  },
  {
   "cell_type": "markdown",
   "metadata": {},
   "source": [
    "## 2. Creating your own classes"
   ]
  },
  {
   "cell_type": "code",
   "execution_count": 23,
   "metadata": {},
   "outputs": [
    {
     "data": {
      "text/plain": [
       "UUID('3db95b8d-10c6-4178-8a68-840ceb8b9810')"
      ]
     },
     "execution_count": 23,
     "metadata": {},
     "output_type": "execute_result"
    }
   ],
   "source": [
    "import uuid\n",
    "uuid.uuid4()"
   ]
  },
  {
   "cell_type": "code",
   "execution_count": 64,
   "metadata": {},
   "outputs": [],
   "source": [
    "# E-commerce Order Processing:\n",
    "# Create a class that represents an e-commerce order.\n",
    "# Then write a function accepts a list of orders \n",
    "# and returns the total order value after applying \n",
    "# a 10% discount for orders over $1000.\n",
    "\n",
    "# The class should have the following attributes:\n",
    "#   - order_id\n",
    "#   - item_name\n",
    "#   - item_price\n",
    "#   - quantity\n",
    "\n",
    "# Order class\n",
    "\n",
    "class Order:\n",
    "\n",
    "    def __init__(self, item_name, item_price, quantity):\n",
    "        self._order_id = uuid.uuid4()\n",
    "        self._item_name = item_name \n",
    "        self._item_price = item_price\n",
    "        self._quantity = quantity \n",
    "\n",
    "    def checkout(self):\n",
    "        return self._item_price * self._quantity\n",
    "\n",
    "# Put some orders into a list\n",
    "lst = [a,b,c,d]\n",
    "\n",
    "\n",
    "# Write a function to the the total order value\n",
    "\n",
    "def calculate_total_value(orders: list):\n",
    "    finalprice = 0\n",
    "    for item in orders:\n",
    "        temp = 0\n",
    "        if item.checkout() > 1000:\n",
    "            temp = item.checkout() * 0.9\n",
    "        else:\n",
    "            temp = item.checkout()\n",
    "        finalprice += temp\n",
    "    return finalprice"
   ]
  },
  {
   "cell_type": "code",
   "execution_count": 65,
   "metadata": {},
   "outputs": [
    {
     "data": {
      "text/plain": [
       "2970.0"
      ]
     },
     "execution_count": 65,
     "metadata": {},
     "output_type": "execute_result"
    }
   ],
   "source": [
    "calculate_total_value(lst)\n"
   ]
  },
  {
   "cell_type": "code",
   "execution_count": 61,
   "metadata": {},
   "outputs": [
    {
     "data": {
      "text/plain": [
       "True"
      ]
     },
     "execution_count": 61,
     "metadata": {},
     "output_type": "execute_result"
    }
   ],
   "source": [
    "a = Order(\"Baju\", 500, 5)\n",
    "b = Order(\"kasut\", 10, 3)\n",
    "c = Order(\"jeket\", 200, 3)\n",
    "d = Order(\"Seluar\", 90, 1)\n",
    "# a.checkout()\n",
    "\n",
    "a.checkout() > 1000"
   ]
  },
  {
   "cell_type": "code",
   "execution_count": 108,
   "metadata": {},
   "outputs": [],
   "source": [
    "# Inventory Management:\n",
    "# Create two classes: Product and Inventory.\n",
    "# Include methods for adding products, updating stock levels, \n",
    "# and generating a report of items that need reordering \n",
    "# (below a specified threshold).\n",
    "\n",
    "# The class Product might have the following attributes:\n",
    "#   - product_id\n",
    "#   - name\n",
    "#   - price\n",
    "#   - quantity\n",
    "\n",
    "# The class Inventory might have the following attributes:\n",
    "#   - products_list\n",
    "#   - stock_threshold\n",
    "\n",
    "# Product class\n",
    "\n",
    "class Product:\n",
    "\n",
    "    def __init__(self, product_id, name, price, quantity):\n",
    "        self._product_id = product_id\n",
    "        self._name = name\n",
    "        self._price = price\n",
    "        self._quantity = quantity\n",
    "\n",
    "    def info(self):\n",
    "        return f\"ID: {self._product_id}, Name: {self._name}, Price {self._price}, Quant: {self._quantity}\"\n",
    "\n",
    "\n",
    "# Inventory class\n",
    "\n",
    "#this is literally making class List\n",
    "class Inventory():\n",
    "    def __init__(self):\n",
    "        self._prodlst = []\n",
    "        \n",
    "    \n",
    "    #this is literally append()\n",
    "    def add_product(self, product):\n",
    "        self._prodlst.append(product)\n",
    "\n",
    "    def update_product_quantity(self):\n",
    "        pass\n",
    "\n",
    "    def generate_report(self):\n",
    "        pass\n",
    "\n"
   ]
  },
  {
   "cell_type": "code",
   "execution_count": 103,
   "metadata": {},
   "outputs": [
    {
     "data": {
      "text/plain": [
       "int"
      ]
     },
     "execution_count": 103,
     "metadata": {},
     "output_type": "execute_result"
    }
   ],
   "source": [
    "prod = Product(1, \"A\", 10, 3)\n",
    "prod.info()\n",
    "type(prod._product_id)"
   ]
  },
  {
   "cell_type": "code",
   "execution_count": 115,
   "metadata": {},
   "outputs": [
    {
     "data": {
      "text/plain": [
       "'ID: 1, Name: A, Price 10, Quant: 3'"
      ]
     },
     "execution_count": 115,
     "metadata": {},
     "output_type": "execute_result"
    }
   ],
   "source": [
    "inv = Inventory()\n",
    "inv.add_product(prod)\n",
    "inv._prodlst[0].info()"
   ]
  }
 ],
 "metadata": {
  "kernelspec": {
   "display_name": "tutor-an",
   "language": "python",
   "name": "python3"
  },
  "language_info": {
   "codemirror_mode": {
    "name": "ipython",
    "version": 3
   },
   "file_extension": ".py",
   "mimetype": "text/x-python",
   "name": "python",
   "nbconvert_exporter": "python",
   "pygments_lexer": "ipython3",
   "version": "3.11.9"
  }
 },
 "nbformat": 4,
 "nbformat_minor": 2
}
